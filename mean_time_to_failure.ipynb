{
 "cells": [
  {
   "cell_type": "markdown",
   "metadata": {},
   "source": [
    "# Why Mean Time To Failure is a poor(lazy) metric for pre-emptive ESP replacement"
   ]
  },
  {
   "cell_type": "markdown",
   "metadata": {},
   "source": [
    "## Introduction"
   ]
  },
  {
   "cell_type": "markdown",
   "metadata": {},
   "source": [
    "In oilfields where Electric Submersible Pump(ESP) is the artificial lift technique, the ESP replacement strategy is a key question. Two strategies are typically employed: \n",
    "    \n",
    "    1) pre-emptive - ESP's are changed out before they fail.\n",
    "    2) reactive - ESP's are changed out once they fail.\n",
    "\n",
    "There are unique advantages and disadvantages to either of these strategies, making them unique for different oilfields. However, the chosen strategy impacts OPEX, CAPEX, unscheduled deferment, planning stability and availability of long-lead items making it one of the most important decisions in managing an oilfield.\n",
    "\n",
    "Recently at work a pre-emptive schedule was chosen with mean time to failure (MTTF) used as the metric to decide on pre-emptive ESP replacement. This post argues that MTTF based replacement is sub-optimal and a reliability based approach using failure rate curves and the probability of failure to decide on when to replace ESP's pre-emptively is a better metric to decide on when to replace ESP's.\n",
    "\n",
    "The code is available on my github here: [github] "
   ]
  },
  {
   "cell_type": "markdown",
   "metadata": {},
   "source": [
    "## Exploratory data analysis"
   ]
  },
  {
   "cell_type": "code",
   "execution_count": 55,
   "metadata": {},
   "outputs": [
    {
     "data": {
      "text/html": [
       "<div>\n",
       "<style scoped>\n",
       "    .dataframe tbody tr th:only-of-type {\n",
       "        vertical-align: middle;\n",
       "    }\n",
       "\n",
       "    .dataframe tbody tr th {\n",
       "        vertical-align: top;\n",
       "    }\n",
       "\n",
       "    .dataframe thead th {\n",
       "        text-align: right;\n",
       "    }\n",
       "</style>\n",
       "<table border=\"1\" class=\"dataframe\">\n",
       "  <thead>\n",
       "    <tr style=\"text-align: right;\">\n",
       "      <th></th>\n",
       "      <th>ESP</th>\n",
       "      <th>days</th>\n",
       "    </tr>\n",
       "  </thead>\n",
       "  <tbody>\n",
       "    <tr>\n",
       "      <th>15</th>\n",
       "      <td>15</td>\n",
       "      <td>2</td>\n",
       "    </tr>\n",
       "    <tr>\n",
       "      <th>0</th>\n",
       "      <td>0</td>\n",
       "      <td>51</td>\n",
       "    </tr>\n",
       "    <tr>\n",
       "      <th>46</th>\n",
       "      <td>46</td>\n",
       "      <td>90</td>\n",
       "    </tr>\n",
       "    <tr>\n",
       "      <th>33</th>\n",
       "      <td>33</td>\n",
       "      <td>97</td>\n",
       "    </tr>\n",
       "    <tr>\n",
       "      <th>47</th>\n",
       "      <td>47</td>\n",
       "      <td>107</td>\n",
       "    </tr>\n",
       "  </tbody>\n",
       "</table>\n",
       "</div>"
      ],
      "text/plain": [
       "   ESP  days\n",
       "15  15     2\n",
       "0    0    51\n",
       "46  46    90\n",
       "33  33    97\n",
       "47  47   107"
      ]
     },
     "execution_count": 55,
     "metadata": {},
     "output_type": "execute_result"
    }
   ],
   "source": [
    "import pandas as pd\n",
    "\n",
    "failure_data_loc = \"data\\\\esp_failures.csv\"\n",
    "failure_data = pd.read_csv(failure_data_loc)\n",
    "failure_data.sort_values(by=\"days\", inplace=True)\n",
    "\n",
    "failure_data[\"ESP\"] = [str(v) for v in failure_data[\"ESP\"]]\n",
    "\n",
    "failure_data.head(5)"
   ]
  },
  {
   "cell_type": "markdown",
   "metadata": {},
   "source": [
    "### Runtimes"
   ]
  },
  {
   "cell_type": "code",
   "execution_count": 56,
   "metadata": {},
   "outputs": [
    {
     "data": {
      "text/html": [
       "<style>\n",
       "        .bk-notebook-logo {\n",
       "            display: block;\n",
       "            width: 20px;\n",
       "            height: 20px;\n",
       "            background-image: url(data:image/png;base64,iVBORw0KGgoAAAANSUhEUgAAABQAAAAUCAYAAACNiR0NAAAABHNCSVQICAgIfAhkiAAAAAlwSFlzAAALEgAACxIB0t1+/AAAABx0RVh0U29mdHdhcmUAQWRvYmUgRmlyZXdvcmtzIENTNui8sowAAAOkSURBVDiNjZRtaJVlGMd/1/08zzln5zjP1LWcU9N0NkN8m2CYjpgQYQXqSs0I84OLIC0hkEKoPtiH3gmKoiJDU7QpLgoLjLIQCpEsNJ1vqUOdO7ppbuec5+V+rj4ctwzd8IIbbi6u+8f1539dt3A78eXC7QizUF7gyV1fD1Yqg4JWz84yffhm0qkFqBogB9rM8tZdtwVsPUhWhGcFJngGeWrPzHm5oaMmkfEg1usvLFyc8jLRqDOMru7AyC8saQr7GG7f5fvDeH7Ej8CM66nIF+8yngt6HWaKh7k49Soy9nXurCi1o3qUbS3zWfrYeQDTB/Qj6kX6Ybhw4B+bOYoLKCC9H3Nu/leUTZ1JdRWkkn2ldcCamzrcf47KKXdAJllSlxAOkRgyHsGC/zRday5Qld9DyoM4/q/rUoy/CXh3jzOu3bHUVZeU+DEn8FInkPBFlu3+nW3Nw0mk6vCDiWg8CeJaxEwuHS3+z5RgY+YBR6V1Z1nxSOfoaPa4LASWxxdNp+VWTk7+4vzaou8v8PN+xo+KY2xsw6une2frhw05CTYOmQvsEhjhWjn0bmXPjpE1+kplmmkP3suftwTubK9Vq22qKmrBhpY4jvd5afdRA3wGjFAgcnTK2s4hY0/GPNIb0nErGMCRxWOOX64Z8RAC4oCXdklmEvcL8o0BfkNK4lUg9HTl+oPlQxdNo3Mg4Nv175e/1LDGzZen30MEjRUtmXSfiTVu1kK8W4txyV6BMKlbgk3lMwYCiusNy9fVfvvwMxv8Ynl6vxoByANLTWplvuj/nF9m2+PDtt1eiHPBr1oIfhCChQMBw6Aw0UulqTKZdfVvfG7VcfIqLG9bcldL/+pdWTLxLUy8Qq38heUIjh4XlzZxzQm19lLFlr8vdQ97rjZVOLf8nclzckbcD4wxXMidpX30sFd37Fv/GtwwhzhxGVAprjbg0gCAEeIgwCZyTV2Z1REEW8O4py0wsjeloKoMr6iCY6dP92H6Vw/oTyICIthibxjm/DfN9lVz8IqtqKYLUXfoKVMVQVVJOElGjrnnUt9T9wbgp8AyYKaGlqingHZU/uG2NTZSVqwHQTWkx9hxjkpWDaCg6Ckj5qebgBVbT3V3NNXMSiWSDdGV3hrtzla7J+duwPOToIg42ChPQOQjspnSlp1V+Gjdged7+8UN5CRAV7a5EdFNwCjEaBR27b3W890TE7g24NAP/mMDXRWrGoFPQI9ls/MWO2dWFAar/xcOIImbbpA3zgAAAABJRU5ErkJggg==);\n",
       "        }\n",
       "    </style>\n",
       "    <div>\n",
       "        <a href=\"https://bokeh.org\" target=\"_blank\" class=\"bk-notebook-logo\"></a>\n",
       "        <span id=\"a2f8f1d4-eac1-4b9e-bb2f-36b313dffec7\">Loading BokehJS ...</span>\n",
       "    </div>\n"
      ]
     },
     "metadata": {},
     "output_type": "display_data"
    },
    {
     "data": {
      "application/javascript": "(function(root) {\n  function now() {\n    return new Date();\n  }\n\n  const force = true;\n\n  if (typeof root._bokeh_onload_callbacks === \"undefined\" || force === true) {\n    root._bokeh_onload_callbacks = [];\n    root._bokeh_is_loading = undefined;\n  }\n\nconst JS_MIME_TYPE = 'application/javascript';\n  const HTML_MIME_TYPE = 'text/html';\n  const EXEC_MIME_TYPE = 'application/vnd.bokehjs_exec.v0+json';\n  const CLASS_NAME = 'output_bokeh rendered_html';\n\n  /**\n   * Render data to the DOM node\n   */\n  function render(props, node) {\n    const script = document.createElement(\"script\");\n    node.appendChild(script);\n  }\n\n  /**\n   * Handle when an output is cleared or removed\n   */\n  function handleClearOutput(event, handle) {\n    function drop(id) {\n      const view = Bokeh.index.get_by_id(id)\n      if (view != null) {\n        view.model.document.clear()\n        Bokeh.index.delete(view)\n      }\n    }\n\n    const cell = handle.cell;\n\n    const id = cell.output_area._bokeh_element_id;\n    const server_id = cell.output_area._bokeh_server_id;\n\n    // Clean up Bokeh references\n    if (id != null) {\n      drop(id)\n    }\n\n    if (server_id !== undefined) {\n      // Clean up Bokeh references\n      const cmd_clean = \"from bokeh.io.state import curstate; print(curstate().uuid_to_server['\" + server_id + \"'].get_sessions()[0].document.roots[0]._id)\";\n      cell.notebook.kernel.execute(cmd_clean, {\n        iopub: {\n          output: function(msg) {\n            const id = msg.content.text.trim()\n            drop(id)\n          }\n        }\n      });\n      // Destroy server and session\n      const cmd_destroy = \"import bokeh.io.notebook as ion; ion.destroy_server('\" + server_id + \"')\";\n      cell.notebook.kernel.execute(cmd_destroy);\n    }\n  }\n\n  /**\n   * Handle when a new output is added\n   */\n  function handleAddOutput(event, handle) {\n    const output_area = handle.output_area;\n    const output = handle.output;\n\n    // limit handleAddOutput to display_data with EXEC_MIME_TYPE content only\n    if ((output.output_type != \"display_data\") || (!Object.prototype.hasOwnProperty.call(output.data, EXEC_MIME_TYPE))) {\n      return\n    }\n\n    const toinsert = output_area.element.find(\".\" + CLASS_NAME.split(' ')[0]);\n\n    if (output.metadata[EXEC_MIME_TYPE][\"id\"] !== undefined) {\n      toinsert[toinsert.length - 1].firstChild.textContent = output.data[JS_MIME_TYPE];\n      // store reference to embed id on output_area\n      output_area._bokeh_element_id = output.metadata[EXEC_MIME_TYPE][\"id\"];\n    }\n    if (output.metadata[EXEC_MIME_TYPE][\"server_id\"] !== undefined) {\n      const bk_div = document.createElement(\"div\");\n      bk_div.innerHTML = output.data[HTML_MIME_TYPE];\n      const script_attrs = bk_div.children[0].attributes;\n      for (let i = 0; i < script_attrs.length; i++) {\n        toinsert[toinsert.length - 1].firstChild.setAttribute(script_attrs[i].name, script_attrs[i].value);\n        toinsert[toinsert.length - 1].firstChild.textContent = bk_div.children[0].textContent\n      }\n      // store reference to server id on output_area\n      output_area._bokeh_server_id = output.metadata[EXEC_MIME_TYPE][\"server_id\"];\n    }\n  }\n\n  function register_renderer(events, OutputArea) {\n\n    function append_mime(data, metadata, element) {\n      // create a DOM node to render to\n      const toinsert = this.create_output_subarea(\n        metadata,\n        CLASS_NAME,\n        EXEC_MIME_TYPE\n      );\n      this.keyboard_manager.register_events(toinsert);\n      // Render to node\n      const props = {data: data, metadata: metadata[EXEC_MIME_TYPE]};\n      render(props, toinsert[toinsert.length - 1]);\n      element.append(toinsert);\n      return toinsert\n    }\n\n    /* Handle when an output is cleared or removed */\n    events.on('clear_output.CodeCell', handleClearOutput);\n    events.on('delete.Cell', handleClearOutput);\n\n    /* Handle when a new output is added */\n    events.on('output_added.OutputArea', handleAddOutput);\n\n    /**\n     * Register the mime type and append_mime function with output_area\n     */\n    OutputArea.prototype.register_mime_type(EXEC_MIME_TYPE, append_mime, {\n      /* Is output safe? */\n      safe: true,\n      /* Index of renderer in `output_area.display_order` */\n      index: 0\n    });\n  }\n\n  // register the mime type if in Jupyter Notebook environment and previously unregistered\n  if (root.Jupyter !== undefined) {\n    const events = require('base/js/events');\n    const OutputArea = require('notebook/js/outputarea').OutputArea;\n\n    if (OutputArea.prototype.mime_types().indexOf(EXEC_MIME_TYPE) == -1) {\n      register_renderer(events, OutputArea);\n    }\n  }\n  if (typeof (root._bokeh_timeout) === \"undefined\" || force === true) {\n    root._bokeh_timeout = Date.now() + 5000;\n    root._bokeh_failed_load = false;\n  }\n\n  const NB_LOAD_WARNING = {'data': {'text/html':\n     \"<div style='background-color: #fdd'>\\n\"+\n     \"<p>\\n\"+\n     \"BokehJS does not appear to have successfully loaded. If loading BokehJS from CDN, this \\n\"+\n     \"may be due to a slow or bad network connection. Possible fixes:\\n\"+\n     \"</p>\\n\"+\n     \"<ul>\\n\"+\n     \"<li>re-rerun `output_notebook()` to attempt to load from CDN again, or</li>\\n\"+\n     \"<li>use INLINE resources instead, as so:</li>\\n\"+\n     \"</ul>\\n\"+\n     \"<code>\\n\"+\n     \"from bokeh.resources import INLINE\\n\"+\n     \"output_notebook(resources=INLINE)\\n\"+\n     \"</code>\\n\"+\n     \"</div>\"}};\n\n  function display_loaded() {\n    const el = document.getElementById(\"a2f8f1d4-eac1-4b9e-bb2f-36b313dffec7\");\n    if (el != null) {\n      el.textContent = \"BokehJS is loading...\";\n    }\n    if (root.Bokeh !== undefined) {\n      if (el != null) {\n        el.textContent = \"BokehJS \" + root.Bokeh.version + \" successfully loaded.\";\n      }\n    } else if (Date.now() < root._bokeh_timeout) {\n      setTimeout(display_loaded, 100)\n    }\n  }\n\n  function run_callbacks() {\n    try {\n      root._bokeh_onload_callbacks.forEach(function(callback) {\n        if (callback != null)\n          callback();\n      });\n    } finally {\n      delete root._bokeh_onload_callbacks\n    }\n    console.debug(\"Bokeh: all callbacks have finished\");\n  }\n\n  function load_libs(css_urls, js_urls, callback) {\n    if (css_urls == null) css_urls = [];\n    if (js_urls == null) js_urls = [];\n\n    root._bokeh_onload_callbacks.push(callback);\n    if (root._bokeh_is_loading > 0) {\n      console.debug(\"Bokeh: BokehJS is being loaded, scheduling callback at\", now());\n      return null;\n    }\n    if (js_urls == null || js_urls.length === 0) {\n      run_callbacks();\n      return null;\n    }\n    console.debug(\"Bokeh: BokehJS not loaded, scheduling load and callback at\", now());\n    root._bokeh_is_loading = css_urls.length + js_urls.length;\n\n    function on_load() {\n      root._bokeh_is_loading--;\n      if (root._bokeh_is_loading === 0) {\n        console.debug(\"Bokeh: all BokehJS libraries/stylesheets loaded\");\n        run_callbacks()\n      }\n    }\n\n    function on_error(url) {\n      console.error(\"failed to load \" + url);\n    }\n\n    for (let i = 0; i < css_urls.length; i++) {\n      const url = css_urls[i];\n      const element = document.createElement(\"link\");\n      element.onload = on_load;\n      element.onerror = on_error.bind(null, url);\n      element.rel = \"stylesheet\";\n      element.type = \"text/css\";\n      element.href = url;\n      console.debug(\"Bokeh: injecting link tag for BokehJS stylesheet: \", url);\n      document.body.appendChild(element);\n    }\n\n    for (let i = 0; i < js_urls.length; i++) {\n      const url = js_urls[i];\n      const element = document.createElement('script');\n      element.onload = on_load;\n      element.onerror = on_error.bind(null, url);\n      element.async = false;\n      element.src = url;\n      console.debug(\"Bokeh: injecting script tag for BokehJS library: \", url);\n      document.head.appendChild(element);\n    }\n  };\n\n  function inject_raw_css(css) {\n    const element = document.createElement(\"style\");\n    element.appendChild(document.createTextNode(css));\n    document.body.appendChild(element);\n  }\n\n  const js_urls = [\"https://cdn.bokeh.org/bokeh/release/bokeh-3.3.0.min.js\", \"https://cdn.bokeh.org/bokeh/release/bokeh-gl-3.3.0.min.js\", \"https://cdn.bokeh.org/bokeh/release/bokeh-widgets-3.3.0.min.js\", \"https://cdn.bokeh.org/bokeh/release/bokeh-tables-3.3.0.min.js\", \"https://cdn.bokeh.org/bokeh/release/bokeh-mathjax-3.3.0.min.js\"];\n  const css_urls = [];\n\n  const inline_js = [    function(Bokeh) {\n      Bokeh.set_log_level(\"info\");\n    },\nfunction(Bokeh) {\n    }\n  ];\n\n  function run_inline_js() {\n    if (root.Bokeh !== undefined || force === true) {\n          for (let i = 0; i < inline_js.length; i++) {\n      inline_js[i].call(root, root.Bokeh);\n    }\nif (force === true) {\n        display_loaded();\n      }} else if (Date.now() < root._bokeh_timeout) {\n      setTimeout(run_inline_js, 100);\n    } else if (!root._bokeh_failed_load) {\n      console.log(\"Bokeh: BokehJS failed to load within specified timeout.\");\n      root._bokeh_failed_load = true;\n    } else if (force !== true) {\n      const cell = $(document.getElementById(\"a2f8f1d4-eac1-4b9e-bb2f-36b313dffec7\")).parents('.cell').data().cell;\n      cell.output_area.append_execute_result(NB_LOAD_WARNING)\n    }\n  }\n\n  if (root._bokeh_is_loading === 0) {\n    console.debug(\"Bokeh: BokehJS loaded, going straight to plotting\");\n    run_inline_js();\n  } else {\n    load_libs(css_urls, js_urls, function() {\n      console.debug(\"Bokeh: BokehJS plotting callback run at\", now());\n      run_inline_js();\n    });\n  }\n}(window));",
      "application/vnd.bokehjs_load.v0+json": ""
     },
     "metadata": {},
     "output_type": "display_data"
    },
    {
     "data": {
      "text/html": [
       "\n",
       "  <div id=\"cbda1b43-ef7d-4f7a-8098-a0dcdb103700\" data-root-id=\"p1585\" style=\"display: contents;\"></div>\n"
      ]
     },
     "metadata": {},
     "output_type": "display_data"
    },
    {
     "data": {
      "application/javascript": "(function(root) {\n  function embed_document(root) {\n  const docs_json = {\"3b9cd66d-e7ac-4c75-8255-aad1c82b761f\":{\"version\":\"3.3.0\",\"title\":\"Bokeh Application\",\"roots\":[{\"type\":\"object\",\"name\":\"Figure\",\"id\":\"p1585\",\"attributes\":{\"width\":500,\"height\":700,\"x_range\":{\"type\":\"object\",\"name\":\"Range1d\",\"id\":\"p1595\",\"attributes\":{\"end\":3000}},\"y_range\":{\"type\":\"object\",\"name\":\"FactorRange\",\"id\":\"p1596\",\"attributes\":{\"factors\":[\"15\",\"0\",\"46\",\"33\",\"47\",\"36\",\"29\",\"31\",\"3\",\"39\",\"49\",\"17\",\"8\",\"1\",\"6\",\"9\",\"22\",\"44\",\"45\",\"5\",\"23\",\"43\",\"41\",\"19\",\"4\",\"30\",\"40\",\"42\",\"11\",\"35\",\"16\",\"48\",\"10\",\"32\",\"34\",\"38\",\"37\",\"28\",\"27\",\"12\",\"26\",\"7\",\"2\",\"25\",\"24\",\"18\",\"21\",\"20\",\"14\",\"13\"]}},\"x_scale\":{\"type\":\"object\",\"name\":\"LinearScale\",\"id\":\"p1597\"},\"y_scale\":{\"type\":\"object\",\"name\":\"CategoricalScale\",\"id\":\"p1598\"},\"title\":{\"type\":\"object\",\"name\":\"Title\",\"id\":\"p1588\",\"attributes\":{\"text\":\"ESP Runtimes\"}},\"renderers\":[{\"type\":\"object\",\"name\":\"GlyphRenderer\",\"id\":\"p1615\",\"attributes\":{\"data_source\":{\"type\":\"object\",\"name\":\"ColumnDataSource\",\"id\":\"p1609\",\"attributes\":{\"selected\":{\"type\":\"object\",\"name\":\"Selection\",\"id\":\"p1610\",\"attributes\":{\"indices\":[],\"line_indices\":[]}},\"selection_policy\":{\"type\":\"object\",\"name\":\"UnionRenderers\",\"id\":\"p1611\"},\"data\":{\"type\":\"map\",\"entries\":[[\"y\",{\"type\":\"ndarray\",\"array\":[\"15\",\"0\",\"46\",\"33\",\"47\",\"36\",\"29\",\"31\",\"3\",\"39\",\"49\",\"17\",\"8\",\"1\",\"6\",\"9\",\"22\",\"44\",\"45\",\"5\",\"23\",\"43\",\"41\",\"19\",\"4\",\"30\",\"40\",\"42\",\"11\",\"35\",\"16\",\"48\",\"10\",\"32\",\"34\",\"38\",\"37\",\"28\",\"27\",\"12\",\"26\",\"7\",\"2\",\"25\",\"24\",\"18\",\"21\",\"20\",\"14\",\"13\"],\"shape\":[50],\"dtype\":\"object\",\"order\":\"little\"}],[\"right\",{\"type\":\"ndarray\",\"array\":{\"type\":\"bytes\",\"data\":\"AgAAADMAAABaAAAAYQAAAGsAAACMAAAAwgAAANUAAADlAAAA/AAAAA4BAAAWAQAAlgEAAKIBAADLAQAAYAMAAPEDAAD5AwAABwQAAAsEAAAlBAAAKgQAADkEAAA6BAAAeQQAAJMEAACxBAAAwAQAACgFAAB/BQAA5QUAABAGAAAdBgAAsAYAALAGAAC5BgAA7wYAAG4HAACXBwAAtgcAAMcHAAAXCAAAGwgAACMIAAAjCAAAZwgAAIQIAACECAAAYgkAAHgJAAA=\"},\"shape\":[50],\"dtype\":\"int32\",\"order\":\"little\"}]]}}},\"view\":{\"type\":\"object\",\"name\":\"CDSView\",\"id\":\"p1616\",\"attributes\":{\"filter\":{\"type\":\"object\",\"name\":\"AllIndices\",\"id\":\"p1617\"}}},\"glyph\":{\"type\":\"object\",\"name\":\"HBar\",\"id\":\"p1612\",\"attributes\":{\"y\":{\"type\":\"field\",\"field\":\"y\"},\"right\":{\"type\":\"field\",\"field\":\"right\"},\"line_color\":{\"type\":\"value\",\"value\":\"#1f77b4\"},\"line_width\":{\"type\":\"value\",\"value\":0.9},\"fill_color\":{\"type\":\"value\",\"value\":\"#1f77b4\"}}},\"nonselection_glyph\":{\"type\":\"object\",\"name\":\"HBar\",\"id\":\"p1613\",\"attributes\":{\"y\":{\"type\":\"field\",\"field\":\"y\"},\"right\":{\"type\":\"field\",\"field\":\"right\"},\"line_color\":{\"type\":\"value\",\"value\":\"#1f77b4\"},\"line_alpha\":{\"type\":\"value\",\"value\":0.1},\"line_width\":{\"type\":\"value\",\"value\":0.9},\"fill_color\":{\"type\":\"value\",\"value\":\"#1f77b4\"},\"fill_alpha\":{\"type\":\"value\",\"value\":0.1},\"hatch_alpha\":{\"type\":\"value\",\"value\":0.1}}},\"muted_glyph\":{\"type\":\"object\",\"name\":\"HBar\",\"id\":\"p1614\",\"attributes\":{\"y\":{\"type\":\"field\",\"field\":\"y\"},\"right\":{\"type\":\"field\",\"field\":\"right\"},\"line_color\":{\"type\":\"value\",\"value\":\"#1f77b4\"},\"line_alpha\":{\"type\":\"value\",\"value\":0.2},\"line_width\":{\"type\":\"value\",\"value\":0.9},\"fill_color\":{\"type\":\"value\",\"value\":\"#1f77b4\"},\"fill_alpha\":{\"type\":\"value\",\"value\":0.2},\"hatch_alpha\":{\"type\":\"value\",\"value\":0.2}}}}}],\"toolbar\":{\"type\":\"object\",\"name\":\"Toolbar\",\"id\":\"p1594\"},\"toolbar_location\":null,\"left\":[{\"type\":\"object\",\"name\":\"CategoricalAxis\",\"id\":\"p1604\",\"attributes\":{\"ticker\":{\"type\":\"object\",\"name\":\"CategoricalTicker\",\"id\":\"p1605\"},\"formatter\":{\"type\":\"object\",\"name\":\"CategoricalTickFormatter\",\"id\":\"p1606\"},\"axis_label\":\"ESP Number\",\"major_label_policy\":{\"type\":\"object\",\"name\":\"AllLabels\",\"id\":\"p1607\"}}}],\"below\":[{\"type\":\"object\",\"name\":\"LinearAxis\",\"id\":\"p1599\",\"attributes\":{\"ticker\":{\"type\":\"object\",\"name\":\"BasicTicker\",\"id\":\"p1600\",\"attributes\":{\"mantissas\":[1,2,5]}},\"formatter\":{\"type\":\"object\",\"name\":\"BasicTickFormatter\",\"id\":\"p1601\"},\"axis_label\":\"Runtime [days]\",\"major_label_policy\":{\"type\":\"object\",\"name\":\"AllLabels\",\"id\":\"p1602\"}}}],\"center\":[{\"type\":\"object\",\"name\":\"Grid\",\"id\":\"p1603\",\"attributes\":{\"axis\":{\"id\":\"p1599\"},\"grid_line_color\":null}},{\"type\":\"object\",\"name\":\"Grid\",\"id\":\"p1608\",\"attributes\":{\"dimension\":1,\"axis\":{\"id\":\"p1604\"}}}]}}]}};\n  const render_items = [{\"docid\":\"3b9cd66d-e7ac-4c75-8255-aad1c82b761f\",\"roots\":{\"p1585\":\"cbda1b43-ef7d-4f7a-8098-a0dcdb103700\"},\"root_ids\":[\"p1585\"]}];\n  root.Bokeh.embed.embed_items_notebook(docs_json, render_items);\n  }\n  if (root.Bokeh !== undefined) {\n    embed_document(root);\n  } else {\n    let attempts = 0;\n    const timer = setInterval(function(root) {\n      if (root.Bokeh !== undefined) {\n        clearInterval(timer);\n        embed_document(root);\n      } else {\n        attempts++;\n        if (attempts > 100) {\n          clearInterval(timer);\n          console.log(\"Bokeh: ERROR: Unable to run BokehJS code because BokehJS library is missing\");\n        }\n      }\n    }, 10, root)\n  }\n})(window);",
      "application/vnd.bokehjs_exec.v0+json": ""
     },
     "metadata": {
      "application/vnd.bokehjs_exec.v0+json": {
       "id": "p1585"
      }
     },
     "output_type": "display_data"
    }
   ],
   "source": [
    "from bokeh.plotting import figure, show, row\n",
    "from bokeh.io import output_notebook\n",
    "\n",
    "output_notebook()\n",
    "\n",
    "\n",
    "def plot_runtimes(df: pd.DataFrame):\n",
    "    p = figure(\n",
    "        x_range=(0, 3000),\n",
    "        y_range=df[\"ESP\"],\n",
    "        height=700,\n",
    "        width=500,\n",
    "        title=\"ESP Runtimes\",\n",
    "        toolbar_location=None,\n",
    "        tools=\"\",\n",
    "    )\n",
    "    p.hbar(y=df[\"ESP\"], right=df[\"days\"], width=0.9)\n",
    "    p.xgrid.grid_line_color = None\n",
    "\n",
    "    p.xaxis.axis_label = \"Runtime [days]\"\n",
    "    p.yaxis.axis_label = \"ESP Number\"\n",
    "    return p\n",
    "\n",
    "\n",
    "runtimes_plot = plot_runtimes(failure_data)\n",
    "show(runtimes_plot)  # type: ignore"
   ]
  },
  {
   "cell_type": "markdown",
   "metadata": {},
   "source": [
    "The runtime data shows ESP's with *infant failure*. These are failures that happen immediately after replacement. They're unavoidable and are also a remainder that changing ESP's does not lower risk of failures to zero. In fact, there's a risk of infant failure. The data also shows that at ~1000 days the failure rate shows a step change. And finally you have ESP's which have run for ~2500 days.\n",
    "\n",
    "The Mean Time To Failure for $n$ ESP's is given by\n",
    "\n",
    "$$ \\frac{Runtime_{esp_1} + Runtime_{esp_2} + ... + Runtime_{esp_n}}{n}$$"
   ]
  },
  {
   "cell_type": "code",
   "execution_count": 57,
   "metadata": {},
   "outputs": [],
   "source": [
    "mean_time_to_failure = failure_data[\"days\"].mean()"
   ]
  },
  {
   "cell_type": "markdown",
   "metadata": {},
   "source": [
    "For the above data this translates to *$1178.2$ days*."
   ]
  },
  {
   "cell_type": "code",
   "execution_count": 58,
   "metadata": {},
   "outputs": [
    {
     "data": {
      "text/html": [
       "\n",
       "  <div id=\"d7a03e12-8683-412d-b2be-0a764744c353\" data-root-id=\"p1585\" style=\"display: contents;\"></div>\n"
      ]
     },
     "metadata": {},
     "output_type": "display_data"
    },
    {
     "data": {
      "application/javascript": "(function(root) {\n  function embed_document(root) {\n  const docs_json = {\"0692bbd9-9992-4e48-a904-d46d7bca5bd0\":{\"version\":\"3.3.0\",\"title\":\"Bokeh Application\",\"roots\":[{\"type\":\"object\",\"name\":\"Figure\",\"id\":\"p1585\",\"attributes\":{\"width\":500,\"height\":700,\"x_range\":{\"type\":\"object\",\"name\":\"Range1d\",\"id\":\"p1595\",\"attributes\":{\"end\":3000}},\"y_range\":{\"type\":\"object\",\"name\":\"FactorRange\",\"id\":\"p1596\",\"attributes\":{\"factors\":[\"15\",\"0\",\"46\",\"33\",\"47\",\"36\",\"29\",\"31\",\"3\",\"39\",\"49\",\"17\",\"8\",\"1\",\"6\",\"9\",\"22\",\"44\",\"45\",\"5\",\"23\",\"43\",\"41\",\"19\",\"4\",\"30\",\"40\",\"42\",\"11\",\"35\",\"16\",\"48\",\"10\",\"32\",\"34\",\"38\",\"37\",\"28\",\"27\",\"12\",\"26\",\"7\",\"2\",\"25\",\"24\",\"18\",\"21\",\"20\",\"14\",\"13\"]}},\"x_scale\":{\"type\":\"object\",\"name\":\"LinearScale\",\"id\":\"p1597\"},\"y_scale\":{\"type\":\"object\",\"name\":\"CategoricalScale\",\"id\":\"p1598\"},\"title\":{\"type\":\"object\",\"name\":\"Title\",\"id\":\"p1588\",\"attributes\":{\"text\":\"ESP Runtimes\"}},\"renderers\":[{\"type\":\"object\",\"name\":\"GlyphRenderer\",\"id\":\"p1615\",\"attributes\":{\"data_source\":{\"type\":\"object\",\"name\":\"ColumnDataSource\",\"id\":\"p1609\",\"attributes\":{\"selected\":{\"type\":\"object\",\"name\":\"Selection\",\"id\":\"p1610\",\"attributes\":{\"indices\":[],\"line_indices\":[]}},\"selection_policy\":{\"type\":\"object\",\"name\":\"UnionRenderers\",\"id\":\"p1611\"},\"data\":{\"type\":\"map\",\"entries\":[[\"y\",{\"type\":\"ndarray\",\"array\":[\"15\",\"0\",\"46\",\"33\",\"47\",\"36\",\"29\",\"31\",\"3\",\"39\",\"49\",\"17\",\"8\",\"1\",\"6\",\"9\",\"22\",\"44\",\"45\",\"5\",\"23\",\"43\",\"41\",\"19\",\"4\",\"30\",\"40\",\"42\",\"11\",\"35\",\"16\",\"48\",\"10\",\"32\",\"34\",\"38\",\"37\",\"28\",\"27\",\"12\",\"26\",\"7\",\"2\",\"25\",\"24\",\"18\",\"21\",\"20\",\"14\",\"13\"],\"shape\":[50],\"dtype\":\"object\",\"order\":\"little\"}],[\"right\",{\"type\":\"ndarray\",\"array\":{\"type\":\"bytes\",\"data\":\"AgAAADMAAABaAAAAYQAAAGsAAACMAAAAwgAAANUAAADlAAAA/AAAAA4BAAAWAQAAlgEAAKIBAADLAQAAYAMAAPEDAAD5AwAABwQAAAsEAAAlBAAAKgQAADkEAAA6BAAAeQQAAJMEAACxBAAAwAQAACgFAAB/BQAA5QUAABAGAAAdBgAAsAYAALAGAAC5BgAA7wYAAG4HAACXBwAAtgcAAMcHAAAXCAAAGwgAACMIAAAjCAAAZwgAAIQIAACECAAAYgkAAHgJAAA=\"},\"shape\":[50],\"dtype\":\"int32\",\"order\":\"little\"}]]}}},\"view\":{\"type\":\"object\",\"name\":\"CDSView\",\"id\":\"p1616\",\"attributes\":{\"filter\":{\"type\":\"object\",\"name\":\"AllIndices\",\"id\":\"p1617\"}}},\"glyph\":{\"type\":\"object\",\"name\":\"HBar\",\"id\":\"p1612\",\"attributes\":{\"y\":{\"type\":\"field\",\"field\":\"y\"},\"right\":{\"type\":\"field\",\"field\":\"right\"},\"line_color\":{\"type\":\"value\",\"value\":\"#1f77b4\"},\"line_width\":{\"type\":\"value\",\"value\":0.9},\"fill_color\":{\"type\":\"value\",\"value\":\"#1f77b4\"}}},\"nonselection_glyph\":{\"type\":\"object\",\"name\":\"HBar\",\"id\":\"p1613\",\"attributes\":{\"y\":{\"type\":\"field\",\"field\":\"y\"},\"right\":{\"type\":\"field\",\"field\":\"right\"},\"line_color\":{\"type\":\"value\",\"value\":\"#1f77b4\"},\"line_alpha\":{\"type\":\"value\",\"value\":0.1},\"line_width\":{\"type\":\"value\",\"value\":0.9},\"fill_color\":{\"type\":\"value\",\"value\":\"#1f77b4\"},\"fill_alpha\":{\"type\":\"value\",\"value\":0.1},\"hatch_alpha\":{\"type\":\"value\",\"value\":0.1}}},\"muted_glyph\":{\"type\":\"object\",\"name\":\"HBar\",\"id\":\"p1614\",\"attributes\":{\"y\":{\"type\":\"field\",\"field\":\"y\"},\"right\":{\"type\":\"field\",\"field\":\"right\"},\"line_color\":{\"type\":\"value\",\"value\":\"#1f77b4\"},\"line_alpha\":{\"type\":\"value\",\"value\":0.2},\"line_width\":{\"type\":\"value\",\"value\":0.9},\"fill_color\":{\"type\":\"value\",\"value\":\"#1f77b4\"},\"fill_alpha\":{\"type\":\"value\",\"value\":0.2},\"hatch_alpha\":{\"type\":\"value\",\"value\":0.2}}}}},{\"type\":\"object\",\"name\":\"Span\",\"id\":\"p1619\",\"attributes\":{\"location\":1178.2,\"dimension\":\"height\",\"line_color\":\"red\",\"line_width\":2,\"line_dash\":[6]}}],\"toolbar\":{\"type\":\"object\",\"name\":\"Toolbar\",\"id\":\"p1594\"},\"toolbar_location\":null,\"left\":[{\"type\":\"object\",\"name\":\"CategoricalAxis\",\"id\":\"p1604\",\"attributes\":{\"ticker\":{\"type\":\"object\",\"name\":\"CategoricalTicker\",\"id\":\"p1605\"},\"formatter\":{\"type\":\"object\",\"name\":\"CategoricalTickFormatter\",\"id\":\"p1606\"},\"axis_label\":\"ESP Number\",\"major_label_policy\":{\"type\":\"object\",\"name\":\"AllLabels\",\"id\":\"p1607\"}}}],\"below\":[{\"type\":\"object\",\"name\":\"LinearAxis\",\"id\":\"p1599\",\"attributes\":{\"ticker\":{\"type\":\"object\",\"name\":\"BasicTicker\",\"id\":\"p1600\",\"attributes\":{\"mantissas\":[1,2,5]}},\"formatter\":{\"type\":\"object\",\"name\":\"BasicTickFormatter\",\"id\":\"p1601\"},\"axis_label\":\"Runtime [days]\",\"major_label_policy\":{\"type\":\"object\",\"name\":\"AllLabels\",\"id\":\"p1602\"}}}],\"center\":[{\"type\":\"object\",\"name\":\"Grid\",\"id\":\"p1603\",\"attributes\":{\"axis\":{\"id\":\"p1599\"},\"grid_line_color\":null}},{\"type\":\"object\",\"name\":\"Grid\",\"id\":\"p1608\",\"attributes\":{\"dimension\":1,\"axis\":{\"id\":\"p1604\"}}}]}}]}};\n  const render_items = [{\"docid\":\"0692bbd9-9992-4e48-a904-d46d7bca5bd0\",\"roots\":{\"p1585\":\"d7a03e12-8683-412d-b2be-0a764744c353\"},\"root_ids\":[\"p1585\"]}];\n  root.Bokeh.embed.embed_items_notebook(docs_json, render_items);\n  }\n  if (root.Bokeh !== undefined) {\n    embed_document(root);\n  } else {\n    let attempts = 0;\n    const timer = setInterval(function(root) {\n      if (root.Bokeh !== undefined) {\n        clearInterval(timer);\n        embed_document(root);\n      } else {\n        attempts++;\n        if (attempts > 100) {\n          clearInterval(timer);\n          console.log(\"Bokeh: ERROR: Unable to run BokehJS code because BokehJS library is missing\");\n        }\n      }\n    }, 10, root)\n  }\n})(window);",
      "application/vnd.bokehjs_exec.v0+json": ""
     },
     "metadata": {
      "application/vnd.bokehjs_exec.v0+json": {
       "id": "p1585"
      }
     },
     "output_type": "display_data"
    }
   ],
   "source": [
    "from bokeh.models import Span\n",
    "\n",
    "hline = Span(\n",
    "    location=1178.2,\n",
    "    dimension=\"height\",\n",
    "    line_color=\"red\",\n",
    "    line_width=2,\n",
    "    line_dash=\"dashed\",\n",
    ")\n",
    "\n",
    "runtimes_plot.renderers.extend([hline])\n",
    "show(runtimes_plot)  # type: ignore"
   ]
  },
  {
   "cell_type": "markdown",
   "metadata": {},
   "source": [
    "### Survivor plot"
   ]
  },
  {
   "cell_type": "code",
   "execution_count": 59,
   "metadata": {},
   "outputs": [
    {
     "data": {
      "text/html": [
       "<div>\n",
       "<style scoped>\n",
       "    .dataframe tbody tr th:only-of-type {\n",
       "        vertical-align: middle;\n",
       "    }\n",
       "\n",
       "    .dataframe tbody tr th {\n",
       "        vertical-align: top;\n",
       "    }\n",
       "\n",
       "    .dataframe thead th {\n",
       "        text-align: right;\n",
       "    }\n",
       "</style>\n",
       "<table border=\"1\" class=\"dataframe\">\n",
       "  <thead>\n",
       "    <tr style=\"text-align: right;\">\n",
       "      <th></th>\n",
       "      <th>ESP</th>\n",
       "      <th>days</th>\n",
       "      <th>survivors</th>\n",
       "    </tr>\n",
       "  </thead>\n",
       "  <tbody>\n",
       "    <tr>\n",
       "      <th>15</th>\n",
       "      <td>15</td>\n",
       "      <td>2</td>\n",
       "      <td>0.98</td>\n",
       "    </tr>\n",
       "    <tr>\n",
       "      <th>0</th>\n",
       "      <td>0</td>\n",
       "      <td>51</td>\n",
       "      <td>0.96</td>\n",
       "    </tr>\n",
       "    <tr>\n",
       "      <th>46</th>\n",
       "      <td>46</td>\n",
       "      <td>90</td>\n",
       "      <td>0.94</td>\n",
       "    </tr>\n",
       "    <tr>\n",
       "      <th>33</th>\n",
       "      <td>33</td>\n",
       "      <td>97</td>\n",
       "      <td>0.92</td>\n",
       "    </tr>\n",
       "    <tr>\n",
       "      <th>47</th>\n",
       "      <td>47</td>\n",
       "      <td>107</td>\n",
       "      <td>0.90</td>\n",
       "    </tr>\n",
       "  </tbody>\n",
       "</table>\n",
       "</div>"
      ],
      "text/plain": [
       "   ESP  days  survivors\n",
       "15  15     2       0.98\n",
       "0    0    51       0.96\n",
       "46  46    90       0.94\n",
       "33  33    97       0.92\n",
       "47  47   107       0.90"
      ]
     },
     "execution_count": 59,
     "metadata": {},
     "output_type": "execute_result"
    }
   ],
   "source": [
    "import numpy as np\n",
    "\n",
    "sample_size = len(failure_data)\n",
    "\n",
    "survivors = np.array(\n",
    "    [\n",
    "        ((sample_size - (idx + 1)) / sample_size)\n",
    "        for idx, _ in enumerate(failure_data[\"days\"])\n",
    "    ]\n",
    ")\n",
    "\n",
    "failure_data[\"survivors\"] = survivors\n",
    "failure_data.head()"
   ]
  },
  {
   "cell_type": "code",
   "execution_count": 60,
   "metadata": {},
   "outputs": [],
   "source": [
    "from typing import Iterable\n",
    "\n",
    "\n",
    "class CDFPlot:\n",
    "    def __init__(self, width=800, height=400, title=\"CDF Plot\", **kwargs):\n",
    "        self.width = width\n",
    "        self.height = height\n",
    "\n",
    "        self.title = title\n",
    "        self.plot = figure(width=width, height=height, title=title, **kwargs)\n",
    "        self.lines: dict[str, dict] = {}\n",
    "\n",
    "    def add_line(\n",
    "        self,\n",
    "        line_name: str,\n",
    "        x: Iterable,\n",
    "        y: Iterable,\n",
    "        legend_label: str,\n",
    "        color: str,\n",
    "        **kwargs,\n",
    "    ):\n",
    "        self.plot.line(x, y, color=color, legend_label=legend_label, **kwargs)\n",
    "        return self.plot\n",
    "\n",
    "    def add_scatter(\n",
    "        self, x: Iterable, y: Iterable, legend: str, color: str, size: int = 15\n",
    "    ):\n",
    "        self.plot.circle(x, y, fill_color=color, size=size, legend_label=legend)\n",
    "        return self.plot"
   ]
  },
  {
   "cell_type": "code",
   "execution_count": 61,
   "metadata": {},
   "outputs": [
    {
     "data": {
      "text/html": [
       "\n",
       "  <div id=\"bcef70e3-3c7a-47f5-8a9f-a8abdf77eac7\" data-root-id=\"p1621\" style=\"display: contents;\"></div>\n"
      ]
     },
     "metadata": {},
     "output_type": "display_data"
    },
    {
     "data": {
      "application/javascript": "(function(root) {\n  function embed_document(root) {\n  const docs_json = {\"8aa44cc0-1edb-4507-87f1-1044e891fcf2\":{\"version\":\"3.3.0\",\"title\":\"Bokeh Application\",\"roots\":[{\"type\":\"object\",\"name\":\"Figure\",\"id\":\"p1621\",\"attributes\":{\"width\":700,\"height\":700,\"x_range\":{\"type\":\"object\",\"name\":\"DataRange1d\",\"id\":\"p1623\"},\"y_range\":{\"type\":\"object\",\"name\":\"Range1d\",\"id\":\"p1631\"},\"x_scale\":{\"type\":\"object\",\"name\":\"LinearScale\",\"id\":\"p1632\"},\"y_scale\":{\"type\":\"object\",\"name\":\"LinearScale\",\"id\":\"p1633\"},\"title\":{\"type\":\"object\",\"name\":\"Title\",\"id\":\"p1624\",\"attributes\":{\"text\":\"ESP Survival plot\"}},\"renderers\":[{\"type\":\"object\",\"name\":\"GlyphRenderer\",\"id\":\"p1657\",\"attributes\":{\"data_source\":{\"type\":\"object\",\"name\":\"ColumnDataSource\",\"id\":\"p1651\",\"attributes\":{\"selected\":{\"type\":\"object\",\"name\":\"Selection\",\"id\":\"p1652\",\"attributes\":{\"indices\":[],\"line_indices\":[]}},\"selection_policy\":{\"type\":\"object\",\"name\":\"UnionRenderers\",\"id\":\"p1653\"},\"data\":{\"type\":\"map\",\"entries\":[[\"x\",{\"type\":\"ndarray\",\"array\":{\"type\":\"bytes\",\"data\":\"AgAAADMAAABaAAAAYQAAAGsAAACMAAAAwgAAANUAAADlAAAA/AAAAA4BAAAWAQAAlgEAAKIBAADLAQAAYAMAAPEDAAD5AwAABwQAAAsEAAAlBAAAKgQAADkEAAA6BAAAeQQAAJMEAACxBAAAwAQAACgFAAB/BQAA5QUAABAGAAAdBgAAsAYAALAGAAC5BgAA7wYAAG4HAACXBwAAtgcAAMcHAAAXCAAAGwgAACMIAAAjCAAAZwgAAIQIAACECAAAYgkAAHgJAAA=\"},\"shape\":[50],\"dtype\":\"int32\",\"order\":\"little\"}],[\"y\",{\"type\":\"ndarray\",\"array\":{\"type\":\"bytes\",\"data\":\"XI/C9Shc7z+4HoXrUbjuPxSuR+F6FO4/cT0K16Nw7T/NzMzMzMzsPylcj8L1KOw/hetRuB6F6z/hehSuR+HqPz0K16NwPeo/mpmZmZmZ6T/2KFyPwvXoP1K4HoXrUeg/rkfhehSu5z8K16NwPQrnP2ZmZmZmZuY/w/UoXI/C5T8fhetRuB7lP3sUrkfheuQ/16NwPQrX4z8zMzMzMzPjP4/C9Shcj+I/7FG4HoXr4T9I4XoUrkfhP6RwPQrXo+A/AAAAAAAA4D+4HoXrUbjeP3E9CtejcN0/KVyPwvUo3D/hehSuR+HaP5qZmZmZmdk/UrgehetR2D8K16NwPQrXP8P1KFyPwtU/exSuR+F61D8zMzMzMzPTP+xRuB6F69E/pHA9Ctej0D+4HoXrUbjOPylcj8L1KMw/mpmZmZmZyT8K16NwPQrHP3sUrkfhesQ/7FG4HoXrwT+4HoXrUbi+P5qZmZmZmbk/exSuR+F6tD+4HoXrUbiuP3sUrkfheqQ/exSuR+F6lD8AAAAAAAAAAA==\"},\"shape\":[50],\"dtype\":\"float64\",\"order\":\"little\"}]]}}},\"view\":{\"type\":\"object\",\"name\":\"CDSView\",\"id\":\"p1658\",\"attributes\":{\"filter\":{\"type\":\"object\",\"name\":\"AllIndices\",\"id\":\"p1659\"}}},\"glyph\":{\"type\":\"object\",\"name\":\"Circle\",\"id\":\"p1654\",\"attributes\":{\"x\":{\"type\":\"field\",\"field\":\"x\"},\"y\":{\"type\":\"field\",\"field\":\"y\"},\"size\":{\"type\":\"value\",\"value\":7},\"line_color\":{\"type\":\"value\",\"value\":\"#1f77b4\"},\"fill_color\":{\"type\":\"value\",\"value\":\"green\"}}},\"nonselection_glyph\":{\"type\":\"object\",\"name\":\"Circle\",\"id\":\"p1655\",\"attributes\":{\"x\":{\"type\":\"field\",\"field\":\"x\"},\"y\":{\"type\":\"field\",\"field\":\"y\"},\"size\":{\"type\":\"value\",\"value\":7},\"line_color\":{\"type\":\"value\",\"value\":\"#1f77b4\"},\"line_alpha\":{\"type\":\"value\",\"value\":0.1},\"fill_color\":{\"type\":\"value\",\"value\":\"green\"},\"fill_alpha\":{\"type\":\"value\",\"value\":0.1},\"hatch_alpha\":{\"type\":\"value\",\"value\":0.1}}},\"muted_glyph\":{\"type\":\"object\",\"name\":\"Circle\",\"id\":\"p1656\",\"attributes\":{\"x\":{\"type\":\"field\",\"field\":\"x\"},\"y\":{\"type\":\"field\",\"field\":\"y\"},\"size\":{\"type\":\"value\",\"value\":7},\"line_color\":{\"type\":\"value\",\"value\":\"#1f77b4\"},\"line_alpha\":{\"type\":\"value\",\"value\":0.2},\"fill_color\":{\"type\":\"value\",\"value\":\"green\"},\"fill_alpha\":{\"type\":\"value\",\"value\":0.2},\"hatch_alpha\":{\"type\":\"value\",\"value\":0.2}}}}},{\"type\":\"object\",\"name\":\"GlyphRenderer\",\"id\":\"p1668\",\"attributes\":{\"data_source\":{\"type\":\"object\",\"name\":\"ColumnDataSource\",\"id\":\"p1662\",\"attributes\":{\"selected\":{\"type\":\"object\",\"name\":\"Selection\",\"id\":\"p1663\",\"attributes\":{\"indices\":[],\"line_indices\":[]}},\"selection_policy\":{\"type\":\"object\",\"name\":\"UnionRenderers\",\"id\":\"p1664\"},\"data\":{\"type\":\"map\",\"entries\":[[\"x\",[1178.34]]]}}},\"view\":{\"type\":\"object\",\"name\":\"CDSView\",\"id\":\"p1669\",\"attributes\":{\"filter\":{\"type\":\"object\",\"name\":\"AllIndices\",\"id\":\"p1670\"}}},\"glyph\":{\"type\":\"object\",\"name\":\"VSpan\",\"id\":\"p1665\",\"attributes\":{\"x\":{\"type\":\"field\",\"field\":\"x\"},\"line_color\":{\"type\":\"value\",\"value\":\"red\"},\"line_dash\":{\"type\":\"value\",\"value\":\"dashed\"}}},\"nonselection_glyph\":{\"type\":\"object\",\"name\":\"VSpan\",\"id\":\"p1666\",\"attributes\":{\"x\":{\"type\":\"field\",\"field\":\"x\"},\"line_color\":{\"type\":\"value\",\"value\":\"red\"},\"line_alpha\":{\"type\":\"value\",\"value\":0.1},\"line_dash\":{\"type\":\"value\",\"value\":\"dashed\"}}},\"muted_glyph\":{\"type\":\"object\",\"name\":\"VSpan\",\"id\":\"p1667\",\"attributes\":{\"x\":{\"type\":\"field\",\"field\":\"x\"},\"line_color\":{\"type\":\"value\",\"value\":\"red\"},\"line_alpha\":{\"type\":\"value\",\"value\":0.2},\"line_dash\":{\"type\":\"value\",\"value\":\"dashed\"}}}}}],\"toolbar\":{\"type\":\"object\",\"name\":\"Toolbar\",\"id\":\"p1630\",\"attributes\":{\"tools\":[{\"type\":\"object\",\"name\":\"PanTool\",\"id\":\"p1644\"},{\"type\":\"object\",\"name\":\"WheelZoomTool\",\"id\":\"p1645\",\"attributes\":{\"renderers\":\"auto\"}},{\"type\":\"object\",\"name\":\"BoxZoomTool\",\"id\":\"p1646\",\"attributes\":{\"overlay\":{\"type\":\"object\",\"name\":\"BoxAnnotation\",\"id\":\"p1647\",\"attributes\":{\"syncable\":false,\"level\":\"overlay\",\"visible\":false,\"left_units\":\"canvas\",\"right_units\":\"canvas\",\"top_units\":\"canvas\",\"bottom_units\":\"canvas\",\"line_color\":\"black\",\"line_alpha\":1.0,\"line_width\":2,\"line_dash\":[4,4],\"fill_color\":\"lightgrey\",\"fill_alpha\":0.5}}}},{\"type\":\"object\",\"name\":\"SaveTool\",\"id\":\"p1648\"},{\"type\":\"object\",\"name\":\"ResetTool\",\"id\":\"p1649\"},{\"type\":\"object\",\"name\":\"HelpTool\",\"id\":\"p1650\"}]}},\"left\":[{\"type\":\"object\",\"name\":\"LinearAxis\",\"id\":\"p1639\",\"attributes\":{\"ticker\":{\"type\":\"object\",\"name\":\"BasicTicker\",\"id\":\"p1640\",\"attributes\":{\"mantissas\":[1,2,5]}},\"formatter\":{\"type\":\"object\",\"name\":\"BasicTickFormatter\",\"id\":\"p1641\"},\"axis_label\":\"Population Fraction Survived\",\"major_label_policy\":{\"type\":\"object\",\"name\":\"AllLabels\",\"id\":\"p1642\"}}}],\"below\":[{\"type\":\"object\",\"name\":\"LinearAxis\",\"id\":\"p1634\",\"attributes\":{\"ticker\":{\"type\":\"object\",\"name\":\"BasicTicker\",\"id\":\"p1635\",\"attributes\":{\"mantissas\":[1,2,5]}},\"formatter\":{\"type\":\"object\",\"name\":\"BasicTickFormatter\",\"id\":\"p1636\"},\"axis_label\":\"Run Time [days]\",\"major_label_policy\":{\"type\":\"object\",\"name\":\"AllLabels\",\"id\":\"p1637\"}}}],\"center\":[{\"type\":\"object\",\"name\":\"Grid\",\"id\":\"p1638\",\"attributes\":{\"axis\":{\"id\":\"p1634\"}}},{\"type\":\"object\",\"name\":\"Grid\",\"id\":\"p1643\",\"attributes\":{\"dimension\":1,\"axis\":{\"id\":\"p1639\"}}},{\"type\":\"object\",\"name\":\"Legend\",\"id\":\"p1660\",\"attributes\":{\"items\":[{\"type\":\"object\",\"name\":\"LegendItem\",\"id\":\"p1661\",\"attributes\":{\"label\":{\"type\":\"value\",\"value\":\"ESP Survivial Data\"},\"renderers\":[{\"id\":\"p1657\"}]}}]}}]}}]}};\n  const render_items = [{\"docid\":\"8aa44cc0-1edb-4507-87f1-1044e891fcf2\",\"roots\":{\"p1621\":\"bcef70e3-3c7a-47f5-8a9f-a8abdf77eac7\"},\"root_ids\":[\"p1621\"]}];\n  root.Bokeh.embed.embed_items_notebook(docs_json, render_items);\n  }\n  if (root.Bokeh !== undefined) {\n    embed_document(root);\n  } else {\n    let attempts = 0;\n    const timer = setInterval(function(root) {\n      if (root.Bokeh !== undefined) {\n        clearInterval(timer);\n        embed_document(root);\n      } else {\n        attempts++;\n        if (attempts > 100) {\n          clearInterval(timer);\n          console.log(\"Bokeh: ERROR: Unable to run BokehJS code because BokehJS library is missing\");\n        }\n      }\n    }, 10, root)\n  }\n})(window);",
      "application/vnd.bokehjs_exec.v0+json": ""
     },
     "metadata": {
      "application/vnd.bokehjs_exec.v0+json": {
       "id": "p1621"
      }
     },
     "output_type": "display_data"
    }
   ],
   "source": [
    "cdf_survivial_plot = CDFPlot(\n",
    "    title=\"ESP Survival plot\", y_range=(0, 1), height=700, width=700\n",
    ")\n",
    "cdf_survivial_plot.plot.xaxis.axis_label = \"Run Time [days]\"\n",
    "cdf_survivial_plot.plot.yaxis.axis_label = \"Population Fraction Survived\"\n",
    "\n",
    "\n",
    "cdf_survivial_plot.add_scatter(\n",
    "    x=failure_data[\"days\"],\n",
    "    y=failure_data[\"survivors\"],\n",
    "    color=\"green\",\n",
    "    size=7,\n",
    "    legend=\"ESP Survivial Data\",\n",
    ")\n",
    "cdf_survivial_plot.plot.vspan(\n",
    "    x=[mean_time_to_failure], line_color=\"red\", line_dash=\"dashed\"\n",
    ")\n",
    "show(cdf_survivial_plot.plot)  # type: ignore"
   ]
  },
  {
   "cell_type": "markdown",
   "metadata": {},
   "source": [
    "The survival plot shows at the beginning $100 %$ of ESP survives. Over time as more and more ESP's fail the survivor population drops. But this plot also shows that at $MTTF$ the ESP does not fail immediately. In this case we have ESP's that has survivied 1400 days more than MTTF. So if you replace the ESP at MTTF you're potentially spending money that's not required.\n",
    "\n",
    "The key question is given a certain runtime what's the probability of failure of ESP?"
   ]
  },
  {
   "cell_type": "code",
   "execution_count": 62,
   "metadata": {},
   "outputs": [
    {
     "data": {
      "text/html": [
       "\n",
       "  <div id=\"fe9effde-e78f-4c3f-b9ae-ce438451b2bf\" data-root-id=\"p1673\" style=\"display: contents;\"></div>\n"
      ]
     },
     "metadata": {},
     "output_type": "display_data"
    },
    {
     "data": {
      "application/javascript": "(function(root) {\n  function embed_document(root) {\n  const docs_json = {\"8f41bf8c-6486-4b27-ac6d-22e0c21fc9cf\":{\"version\":\"3.3.0\",\"title\":\"Bokeh Application\",\"roots\":[{\"type\":\"object\",\"name\":\"Row\",\"id\":\"p1673\",\"attributes\":{\"children\":[{\"type\":\"object\",\"name\":\"Figure\",\"id\":\"p1585\",\"attributes\":{\"width\":500,\"height\":700,\"x_range\":{\"type\":\"object\",\"name\":\"Range1d\",\"id\":\"p1595\",\"attributes\":{\"end\":3000}},\"y_range\":{\"type\":\"object\",\"name\":\"FactorRange\",\"id\":\"p1596\",\"attributes\":{\"factors\":[\"15\",\"0\",\"46\",\"33\",\"47\",\"36\",\"29\",\"31\",\"3\",\"39\",\"49\",\"17\",\"8\",\"1\",\"6\",\"9\",\"22\",\"44\",\"45\",\"5\",\"23\",\"43\",\"41\",\"19\",\"4\",\"30\",\"40\",\"42\",\"11\",\"35\",\"16\",\"48\",\"10\",\"32\",\"34\",\"38\",\"37\",\"28\",\"27\",\"12\",\"26\",\"7\",\"2\",\"25\",\"24\",\"18\",\"21\",\"20\",\"14\",\"13\"]}},\"x_scale\":{\"type\":\"object\",\"name\":\"LinearScale\",\"id\":\"p1597\"},\"y_scale\":{\"type\":\"object\",\"name\":\"CategoricalScale\",\"id\":\"p1598\"},\"title\":{\"type\":\"object\",\"name\":\"Title\",\"id\":\"p1588\",\"attributes\":{\"text\":\"ESP Runtimes\"}},\"renderers\":[{\"type\":\"object\",\"name\":\"GlyphRenderer\",\"id\":\"p1615\",\"attributes\":{\"data_source\":{\"type\":\"object\",\"name\":\"ColumnDataSource\",\"id\":\"p1609\",\"attributes\":{\"selected\":{\"type\":\"object\",\"name\":\"Selection\",\"id\":\"p1610\",\"attributes\":{\"indices\":[],\"line_indices\":[]}},\"selection_policy\":{\"type\":\"object\",\"name\":\"UnionRenderers\",\"id\":\"p1611\"},\"data\":{\"type\":\"map\",\"entries\":[[\"y\",{\"type\":\"ndarray\",\"array\":[\"15\",\"0\",\"46\",\"33\",\"47\",\"36\",\"29\",\"31\",\"3\",\"39\",\"49\",\"17\",\"8\",\"1\",\"6\",\"9\",\"22\",\"44\",\"45\",\"5\",\"23\",\"43\",\"41\",\"19\",\"4\",\"30\",\"40\",\"42\",\"11\",\"35\",\"16\",\"48\",\"10\",\"32\",\"34\",\"38\",\"37\",\"28\",\"27\",\"12\",\"26\",\"7\",\"2\",\"25\",\"24\",\"18\",\"21\",\"20\",\"14\",\"13\"],\"shape\":[50],\"dtype\":\"object\",\"order\":\"little\"}],[\"right\",{\"type\":\"ndarray\",\"array\":{\"type\":\"bytes\",\"data\":\"AgAAADMAAABaAAAAYQAAAGsAAACMAAAAwgAAANUAAADlAAAA/AAAAA4BAAAWAQAAlgEAAKIBAADLAQAAYAMAAPEDAAD5AwAABwQAAAsEAAAlBAAAKgQAADkEAAA6BAAAeQQAAJMEAACxBAAAwAQAACgFAAB/BQAA5QUAABAGAAAdBgAAsAYAALAGAAC5BgAA7wYAAG4HAACXBwAAtgcAAMcHAAAXCAAAGwgAACMIAAAjCAAAZwgAAIQIAACECAAAYgkAAHgJAAA=\"},\"shape\":[50],\"dtype\":\"int32\",\"order\":\"little\"}]]}}},\"view\":{\"type\":\"object\",\"name\":\"CDSView\",\"id\":\"p1616\",\"attributes\":{\"filter\":{\"type\":\"object\",\"name\":\"AllIndices\",\"id\":\"p1617\"}}},\"glyph\":{\"type\":\"object\",\"name\":\"HBar\",\"id\":\"p1612\",\"attributes\":{\"y\":{\"type\":\"field\",\"field\":\"y\"},\"right\":{\"type\":\"field\",\"field\":\"right\"},\"line_color\":{\"type\":\"value\",\"value\":\"#1f77b4\"},\"line_width\":{\"type\":\"value\",\"value\":0.9},\"fill_color\":{\"type\":\"value\",\"value\":\"#1f77b4\"}}},\"nonselection_glyph\":{\"type\":\"object\",\"name\":\"HBar\",\"id\":\"p1613\",\"attributes\":{\"y\":{\"type\":\"field\",\"field\":\"y\"},\"right\":{\"type\":\"field\",\"field\":\"right\"},\"line_color\":{\"type\":\"value\",\"value\":\"#1f77b4\"},\"line_alpha\":{\"type\":\"value\",\"value\":0.1},\"line_width\":{\"type\":\"value\",\"value\":0.9},\"fill_color\":{\"type\":\"value\",\"value\":\"#1f77b4\"},\"fill_alpha\":{\"type\":\"value\",\"value\":0.1},\"hatch_alpha\":{\"type\":\"value\",\"value\":0.1}}},\"muted_glyph\":{\"type\":\"object\",\"name\":\"HBar\",\"id\":\"p1614\",\"attributes\":{\"y\":{\"type\":\"field\",\"field\":\"y\"},\"right\":{\"type\":\"field\",\"field\":\"right\"},\"line_color\":{\"type\":\"value\",\"value\":\"#1f77b4\"},\"line_alpha\":{\"type\":\"value\",\"value\":0.2},\"line_width\":{\"type\":\"value\",\"value\":0.9},\"fill_color\":{\"type\":\"value\",\"value\":\"#1f77b4\"},\"fill_alpha\":{\"type\":\"value\",\"value\":0.2},\"hatch_alpha\":{\"type\":\"value\",\"value\":0.2}}}}},{\"type\":\"object\",\"name\":\"Span\",\"id\":\"p1619\",\"attributes\":{\"location\":1178.2,\"dimension\":\"height\",\"line_color\":\"red\",\"line_width\":2,\"line_dash\":[6]}}],\"toolbar\":{\"type\":\"object\",\"name\":\"Toolbar\",\"id\":\"p1594\"},\"toolbar_location\":null,\"left\":[{\"type\":\"object\",\"name\":\"CategoricalAxis\",\"id\":\"p1604\",\"attributes\":{\"ticker\":{\"type\":\"object\",\"name\":\"CategoricalTicker\",\"id\":\"p1605\"},\"formatter\":{\"type\":\"object\",\"name\":\"CategoricalTickFormatter\",\"id\":\"p1606\"},\"axis_label\":\"ESP Number\",\"major_label_policy\":{\"type\":\"object\",\"name\":\"AllLabels\",\"id\":\"p1607\"}}}],\"below\":[{\"type\":\"object\",\"name\":\"LinearAxis\",\"id\":\"p1599\",\"attributes\":{\"ticker\":{\"type\":\"object\",\"name\":\"BasicTicker\",\"id\":\"p1600\",\"attributes\":{\"mantissas\":[1,2,5]}},\"formatter\":{\"type\":\"object\",\"name\":\"BasicTickFormatter\",\"id\":\"p1601\"},\"axis_label\":\"Runtime [days]\",\"major_label_policy\":{\"type\":\"object\",\"name\":\"AllLabels\",\"id\":\"p1602\"}}}],\"center\":[{\"type\":\"object\",\"name\":\"Grid\",\"id\":\"p1603\",\"attributes\":{\"axis\":{\"id\":\"p1599\"},\"grid_line_color\":null}},{\"type\":\"object\",\"name\":\"Grid\",\"id\":\"p1608\",\"attributes\":{\"dimension\":1,\"axis\":{\"id\":\"p1604\"}}}]}},{\"type\":\"object\",\"name\":\"Figure\",\"id\":\"p1621\",\"attributes\":{\"width\":700,\"height\":700,\"x_range\":{\"type\":\"object\",\"name\":\"DataRange1d\",\"id\":\"p1623\"},\"y_range\":{\"type\":\"object\",\"name\":\"Range1d\",\"id\":\"p1631\"},\"x_scale\":{\"type\":\"object\",\"name\":\"LinearScale\",\"id\":\"p1632\"},\"y_scale\":{\"type\":\"object\",\"name\":\"LinearScale\",\"id\":\"p1633\"},\"title\":{\"type\":\"object\",\"name\":\"Title\",\"id\":\"p1624\",\"attributes\":{\"text\":\"ESP Survival plot\"}},\"renderers\":[{\"type\":\"object\",\"name\":\"GlyphRenderer\",\"id\":\"p1657\",\"attributes\":{\"data_source\":{\"type\":\"object\",\"name\":\"ColumnDataSource\",\"id\":\"p1651\",\"attributes\":{\"selected\":{\"type\":\"object\",\"name\":\"Selection\",\"id\":\"p1652\",\"attributes\":{\"indices\":[],\"line_indices\":[]}},\"selection_policy\":{\"type\":\"object\",\"name\":\"UnionRenderers\",\"id\":\"p1653\"},\"data\":{\"type\":\"map\",\"entries\":[[\"x\",{\"type\":\"ndarray\",\"array\":{\"type\":\"bytes\",\"data\":\"AgAAADMAAABaAAAAYQAAAGsAAACMAAAAwgAAANUAAADlAAAA/AAAAA4BAAAWAQAAlgEAAKIBAADLAQAAYAMAAPEDAAD5AwAABwQAAAsEAAAlBAAAKgQAADkEAAA6BAAAeQQAAJMEAACxBAAAwAQAACgFAAB/BQAA5QUAABAGAAAdBgAAsAYAALAGAAC5BgAA7wYAAG4HAACXBwAAtgcAAMcHAAAXCAAAGwgAACMIAAAjCAAAZwgAAIQIAACECAAAYgkAAHgJAAA=\"},\"shape\":[50],\"dtype\":\"int32\",\"order\":\"little\"}],[\"y\",{\"type\":\"ndarray\",\"array\":{\"type\":\"bytes\",\"data\":\"XI/C9Shc7z+4HoXrUbjuPxSuR+F6FO4/cT0K16Nw7T/NzMzMzMzsPylcj8L1KOw/hetRuB6F6z/hehSuR+HqPz0K16NwPeo/mpmZmZmZ6T/2KFyPwvXoP1K4HoXrUeg/rkfhehSu5z8K16NwPQrnP2ZmZmZmZuY/w/UoXI/C5T8fhetRuB7lP3sUrkfheuQ/16NwPQrX4z8zMzMzMzPjP4/C9Shcj+I/7FG4HoXr4T9I4XoUrkfhP6RwPQrXo+A/AAAAAAAA4D+4HoXrUbjeP3E9CtejcN0/KVyPwvUo3D/hehSuR+HaP5qZmZmZmdk/UrgehetR2D8K16NwPQrXP8P1KFyPwtU/exSuR+F61D8zMzMzMzPTP+xRuB6F69E/pHA9Ctej0D+4HoXrUbjOPylcj8L1KMw/mpmZmZmZyT8K16NwPQrHP3sUrkfhesQ/7FG4HoXrwT+4HoXrUbi+P5qZmZmZmbk/exSuR+F6tD+4HoXrUbiuP3sUrkfheqQ/exSuR+F6lD8AAAAAAAAAAA==\"},\"shape\":[50],\"dtype\":\"float64\",\"order\":\"little\"}]]}}},\"view\":{\"type\":\"object\",\"name\":\"CDSView\",\"id\":\"p1658\",\"attributes\":{\"filter\":{\"type\":\"object\",\"name\":\"AllIndices\",\"id\":\"p1659\"}}},\"glyph\":{\"type\":\"object\",\"name\":\"Circle\",\"id\":\"p1654\",\"attributes\":{\"x\":{\"type\":\"field\",\"field\":\"x\"},\"y\":{\"type\":\"field\",\"field\":\"y\"},\"size\":{\"type\":\"value\",\"value\":7},\"line_color\":{\"type\":\"value\",\"value\":\"#1f77b4\"},\"fill_color\":{\"type\":\"value\",\"value\":\"green\"}}},\"nonselection_glyph\":{\"type\":\"object\",\"name\":\"Circle\",\"id\":\"p1655\",\"attributes\":{\"x\":{\"type\":\"field\",\"field\":\"x\"},\"y\":{\"type\":\"field\",\"field\":\"y\"},\"size\":{\"type\":\"value\",\"value\":7},\"line_color\":{\"type\":\"value\",\"value\":\"#1f77b4\"},\"line_alpha\":{\"type\":\"value\",\"value\":0.1},\"fill_color\":{\"type\":\"value\",\"value\":\"green\"},\"fill_alpha\":{\"type\":\"value\",\"value\":0.1},\"hatch_alpha\":{\"type\":\"value\",\"value\":0.1}}},\"muted_glyph\":{\"type\":\"object\",\"name\":\"Circle\",\"id\":\"p1656\",\"attributes\":{\"x\":{\"type\":\"field\",\"field\":\"x\"},\"y\":{\"type\":\"field\",\"field\":\"y\"},\"size\":{\"type\":\"value\",\"value\":7},\"line_color\":{\"type\":\"value\",\"value\":\"#1f77b4\"},\"line_alpha\":{\"type\":\"value\",\"value\":0.2},\"fill_color\":{\"type\":\"value\",\"value\":\"green\"},\"fill_alpha\":{\"type\":\"value\",\"value\":0.2},\"hatch_alpha\":{\"type\":\"value\",\"value\":0.2}}}}},{\"type\":\"object\",\"name\":\"GlyphRenderer\",\"id\":\"p1668\",\"attributes\":{\"data_source\":{\"type\":\"object\",\"name\":\"ColumnDataSource\",\"id\":\"p1662\",\"attributes\":{\"selected\":{\"type\":\"object\",\"name\":\"Selection\",\"id\":\"p1663\",\"attributes\":{\"indices\":[],\"line_indices\":[]}},\"selection_policy\":{\"type\":\"object\",\"name\":\"UnionRenderers\",\"id\":\"p1664\"},\"data\":{\"type\":\"map\",\"entries\":[[\"x\",[1178.34]]]}}},\"view\":{\"type\":\"object\",\"name\":\"CDSView\",\"id\":\"p1669\",\"attributes\":{\"filter\":{\"type\":\"object\",\"name\":\"AllIndices\",\"id\":\"p1670\"}}},\"glyph\":{\"type\":\"object\",\"name\":\"VSpan\",\"id\":\"p1665\",\"attributes\":{\"x\":{\"type\":\"field\",\"field\":\"x\"},\"line_color\":{\"type\":\"value\",\"value\":\"red\"},\"line_dash\":{\"type\":\"value\",\"value\":\"dashed\"}}},\"nonselection_glyph\":{\"type\":\"object\",\"name\":\"VSpan\",\"id\":\"p1666\",\"attributes\":{\"x\":{\"type\":\"field\",\"field\":\"x\"},\"line_color\":{\"type\":\"value\",\"value\":\"red\"},\"line_alpha\":{\"type\":\"value\",\"value\":0.1},\"line_dash\":{\"type\":\"value\",\"value\":\"dashed\"}}},\"muted_glyph\":{\"type\":\"object\",\"name\":\"VSpan\",\"id\":\"p1667\",\"attributes\":{\"x\":{\"type\":\"field\",\"field\":\"x\"},\"line_color\":{\"type\":\"value\",\"value\":\"red\"},\"line_alpha\":{\"type\":\"value\",\"value\":0.2},\"line_dash\":{\"type\":\"value\",\"value\":\"dashed\"}}}}}],\"toolbar\":{\"type\":\"object\",\"name\":\"Toolbar\",\"id\":\"p1630\",\"attributes\":{\"tools\":[{\"type\":\"object\",\"name\":\"PanTool\",\"id\":\"p1644\"},{\"type\":\"object\",\"name\":\"WheelZoomTool\",\"id\":\"p1645\",\"attributes\":{\"renderers\":\"auto\"}},{\"type\":\"object\",\"name\":\"BoxZoomTool\",\"id\":\"p1646\",\"attributes\":{\"overlay\":{\"type\":\"object\",\"name\":\"BoxAnnotation\",\"id\":\"p1647\",\"attributes\":{\"syncable\":false,\"level\":\"overlay\",\"visible\":false,\"left_units\":\"canvas\",\"right_units\":\"canvas\",\"top_units\":\"canvas\",\"bottom_units\":\"canvas\",\"line_color\":\"black\",\"line_alpha\":1.0,\"line_width\":2,\"line_dash\":[4,4],\"fill_color\":\"lightgrey\",\"fill_alpha\":0.5}}}},{\"type\":\"object\",\"name\":\"SaveTool\",\"id\":\"p1648\"},{\"type\":\"object\",\"name\":\"ResetTool\",\"id\":\"p1649\"},{\"type\":\"object\",\"name\":\"HelpTool\",\"id\":\"p1650\"}]}},\"left\":[{\"type\":\"object\",\"name\":\"LinearAxis\",\"id\":\"p1639\",\"attributes\":{\"ticker\":{\"type\":\"object\",\"name\":\"BasicTicker\",\"id\":\"p1640\",\"attributes\":{\"mantissas\":[1,2,5]}},\"formatter\":{\"type\":\"object\",\"name\":\"BasicTickFormatter\",\"id\":\"p1641\"},\"axis_label\":\"Population Fraction Survived\",\"major_label_policy\":{\"type\":\"object\",\"name\":\"AllLabels\",\"id\":\"p1642\"}}}],\"below\":[{\"type\":\"object\",\"name\":\"LinearAxis\",\"id\":\"p1634\",\"attributes\":{\"ticker\":{\"type\":\"object\",\"name\":\"BasicTicker\",\"id\":\"p1635\",\"attributes\":{\"mantissas\":[1,2,5]}},\"formatter\":{\"type\":\"object\",\"name\":\"BasicTickFormatter\",\"id\":\"p1636\"},\"axis_label\":\"Run Time [days]\",\"major_label_policy\":{\"type\":\"object\",\"name\":\"AllLabels\",\"id\":\"p1637\"}}}],\"center\":[{\"type\":\"object\",\"name\":\"Grid\",\"id\":\"p1638\",\"attributes\":{\"axis\":{\"id\":\"p1634\"}}},{\"type\":\"object\",\"name\":\"Grid\",\"id\":\"p1643\",\"attributes\":{\"dimension\":1,\"axis\":{\"id\":\"p1639\"}}},{\"type\":\"object\",\"name\":\"Legend\",\"id\":\"p1660\",\"attributes\":{\"items\":[{\"type\":\"object\",\"name\":\"LegendItem\",\"id\":\"p1661\",\"attributes\":{\"label\":{\"type\":\"value\",\"value\":\"ESP Survivial Data\"},\"renderers\":[{\"id\":\"p1657\"}]}}]}}]}}]}}]}};\n  const render_items = [{\"docid\":\"8f41bf8c-6486-4b27-ac6d-22e0c21fc9cf\",\"roots\":{\"p1673\":\"fe9effde-e78f-4c3f-b9ae-ce438451b2bf\"},\"root_ids\":[\"p1673\"]}];\n  root.Bokeh.embed.embed_items_notebook(docs_json, render_items);\n  }\n  if (root.Bokeh !== undefined) {\n    embed_document(root);\n  } else {\n    let attempts = 0;\n    const timer = setInterval(function(root) {\n      if (root.Bokeh !== undefined) {\n        clearInterval(timer);\n        embed_document(root);\n      } else {\n        attempts++;\n        if (attempts > 100) {\n          clearInterval(timer);\n          console.log(\"Bokeh: ERROR: Unable to run BokehJS code because BokehJS library is missing\");\n        }\n      }\n    }, 10, root)\n  }\n})(window);",
      "application/vnd.bokehjs_exec.v0+json": ""
     },
     "metadata": {
      "application/vnd.bokehjs_exec.v0+json": {
       "id": "p1673"
      }
     },
     "output_type": "display_data"
    }
   ],
   "source": [
    "show(row([runtimes_plot, cdf_survivial_plot.plot]))  # type: ignore"
   ]
  },
  {
   "cell_type": "markdown",
   "metadata": {},
   "source": [
    "## Weibull Distribution"
   ]
  },
  {
   "cell_type": "markdown",
   "metadata": {},
   "source": [
    "The time to failure $T$ of an ESP is a random variable. If $T$ has a Weibull distribution, the failure function\n",
    "\n",
    "$$F(t) = Pr(T<=t) = \\begin{cases}\n",
    "      1 - e^{-(\\lambda t)^\\alpha}& {\\text{for t} \\geq 0} \\\\\n",
    "      0 & \\text{otherwise}\n",
    "    \\end{cases}$$\n",
    "  \n",
    "where $\\alpha(>0)$ is the *shape* parameter and $\\lambda(>0)$ is the *scale* parameter. When $\\alpha = 1$, the Weibull distribution reduces to an exponential distribution.\n",
    "\n",
    "The survivor function or reliability is\n",
    "\n",
    "$$ R(t) = Pr(T>0) = e^{-(\\lambda t)^\\alpha} \\text{for t > 0}$$"
   ]
  },
  {
   "cell_type": "code",
   "execution_count": 63,
   "metadata": {},
   "outputs": [],
   "source": [
    "def F_t(x, scale_lambda, shape_alpha):\n",
    "    param = 1 - np.exp(-1 * (np.power((scale_lambda * x), shape_alpha)))\n",
    "    return param"
   ]
  },
  {
   "cell_type": "markdown",
   "metadata": {},
   "source": [
    "The probability density for Weibull distribution is given by\n",
    "\n",
    "$$f(t) = \\begin{cases}\n",
    "      \\alpha \\lambda^\\alpha t^{\\alpha - 1}e^{-(\\lambda t)^\\alpha}& \\text{for t > 0} \\\\\n",
    "      0 & \\text{otherwise}\n",
    "    \\end{cases}$$"
   ]
  },
  {
   "cell_type": "code",
   "execution_count": 64,
   "metadata": {},
   "outputs": [],
   "source": [
    "def f_t(x, scale_lambda, shape_alpha):\n",
    "    param_1 = shape_alpha * np.power(scale_lambda, shape_alpha)\n",
    "    param_2 = np.power(x, shape_alpha - 1)\n",
    "    param_3 = np.exp(-1 * np.power((scale_lambda * x), shape_alpha))\n",
    "\n",
    "    pdf = param_1 * param_2 * param_3\n",
    "    return pdf"
   ]
  },
  {
   "cell_type": "markdown",
   "metadata": {},
   "source": [
    "The failure rate function is\n",
    "\n",
    "$$ z(t) = \\frac{f(t)}{R(t)} = \\alpha \\lambda^\\alpha t^{\\alpha - 1}$$"
   ]
  },
  {
   "cell_type": "code",
   "execution_count": 65,
   "metadata": {},
   "outputs": [],
   "source": [
    "def z_t(shape_alpha, scale_lambda, x):\n",
    "    param_1 = shape_alpha\n",
    "    param_2 = np.power(scale_lambda, shape_alpha)\n",
    "    param_3 = np.power(x, shape_alpha - 1)\n",
    "\n",
    "    failure = param_1 * param_2 * param_3\n",
    "    return failure"
   ]
  },
  {
   "cell_type": "markdown",
   "metadata": {},
   "source": [
    "### Weibull curve fit"
   ]
  },
  {
   "cell_type": "markdown",
   "metadata": {},
   "source": [
    "#### Weibull parameter extraction"
   ]
  },
  {
   "cell_type": "code",
   "execution_count": 66,
   "metadata": {},
   "outputs": [],
   "source": [
    "import numpy as np\n",
    "from scipy.optimize import curve_fit\n",
    "\n",
    "\n",
    "def normalize(x: Iterable):\n",
    "    max_value = max(x)\n",
    "    min_value = 0\n",
    "\n",
    "    values = []\n",
    "    for value in x:\n",
    "        result = (value - min_value) / max_value\n",
    "        values.append(result)\n",
    "    return np.array(values)\n",
    "\n",
    "\n",
    "def weibull_reliability_fit(x, l, a):\n",
    "    reliability = np.exp(-1 * np.power(l * x, a))\n",
    "    return reliability\n",
    "\n",
    "\n",
    "def weibull_reliability(x, l, a):\n",
    "    return np.exp((-1 * np.power(l * x, a)))"
   ]
  },
  {
   "cell_type": "code",
   "execution_count": 67,
   "metadata": {},
   "outputs": [
    {
     "name": "stdout",
     "output_type": "stream",
     "text": [
      "Weibull parameters: Lambda=1.7140054427137654, Alpha=1.3658421106365282\n"
     ]
    }
   ],
   "source": [
    "popt, pcov = curve_fit(\n",
    "    weibull_reliability_fit, normalize(failure_data[\"days\"]), survivors\n",
    ")\n",
    "lambda_fit, alpha_fit = popt\n",
    "\n",
    "print(f\"Weibull parameters: Lambda={lambda_fit}, Alpha={alpha_fit}\")"
   ]
  },
  {
   "cell_type": "markdown",
   "metadata": {},
   "source": [
    "#### Weibull Reliability fit"
   ]
  },
  {
   "cell_type": "code",
   "execution_count": 68,
   "metadata": {},
   "outputs": [],
   "source": [
    "from scipy import interpolate\n",
    "\n",
    "days_normalized = np.arange(0.001, 1.0001, 0.001)\n",
    "weibull_cdf = weibull_reliability(days_normalized, lambda_fit, alpha_fit)\n",
    "\n",
    "reliability_fit_ = weibull_cdf\n",
    "failure_fit_ = 1 - reliability_fit_\n",
    "\n",
    "f_reliability = interpolate.interp1d(days_normalized, reliability_fit_)\n",
    "f_failure = interpolate.interp1d(days_normalized, failure_fit_)\n"
   ]
  },
  {
   "cell_type": "code",
   "execution_count": 69,
   "metadata": {},
   "outputs": [
    {
     "data": {
      "text/html": [
       "\n",
       "  <div id=\"a93be076-1e27-4d1d-977e-941a5031938b\" data-root-id=\"p1677\" style=\"display: contents;\"></div>\n"
      ]
     },
     "metadata": {},
     "output_type": "display_data"
    },
    {
     "data": {
      "application/javascript": "(function(root) {\n  function embed_document(root) {\n  const docs_json = {\"f540fa3c-acda-40fa-99da-999503472158\":{\"version\":\"3.3.0\",\"title\":\"Bokeh Application\",\"roots\":[{\"type\":\"object\",\"name\":\"Figure\",\"id\":\"p1677\",\"attributes\":{\"width\":800,\"height\":400,\"x_range\":{\"type\":\"object\",\"name\":\"DataRange1d\",\"id\":\"p1679\"},\"y_range\":{\"type\":\"object\",\"name\":\"Range1d\",\"id\":\"p1687\"},\"x_scale\":{\"type\":\"object\",\"name\":\"LinearScale\",\"id\":\"p1688\"},\"y_scale\":{\"type\":\"object\",\"name\":\"LinearScale\",\"id\":\"p1689\"},\"title\":{\"type\":\"object\",\"name\":\"Title\",\"id\":\"p1680\",\"attributes\":{\"text\":\"ESP Survival plot\"}},\"renderers\":[{\"type\":\"object\",\"name\":\"GlyphRenderer\",\"id\":\"p1713\",\"attributes\":{\"data_source\":{\"type\":\"object\",\"name\":\"ColumnDataSource\",\"id\":\"p1707\",\"attributes\":{\"selected\":{\"type\":\"object\",\"name\":\"Selection\",\"id\":\"p1708\",\"attributes\":{\"indices\":[],\"line_indices\":[]}},\"selection_policy\":{\"type\":\"object\",\"name\":\"UnionRenderers\",\"id\":\"p1709\"},\"data\":{\"type\":\"map\",\"entries\":[[\"x\",{\"type\":\"ndarray\",\"array\":{\"type\":\"bytes\",\"data\":\"AgAAADMAAABaAAAAYQAAAGsAAACMAAAAwgAAANUAAADlAAAA/AAAAA4BAAAWAQAAlgEAAKIBAADLAQAAYAMAAPEDAAD5AwAABwQAAAsEAAAlBAAAKgQAADkEAAA6BAAAeQQAAJMEAACxBAAAwAQAACgFAAB/BQAA5QUAABAGAAAdBgAAsAYAALAGAAC5BgAA7wYAAG4HAACXBwAAtgcAAMcHAAAXCAAAGwgAACMIAAAjCAAAZwgAAIQIAACECAAAYgkAAHgJAAA=\"},\"shape\":[50],\"dtype\":\"int32\",\"order\":\"little\"}],[\"y\",{\"type\":\"ndarray\",\"array\":{\"type\":\"bytes\",\"data\":\"XI/C9Shc7z+4HoXrUbjuPxSuR+F6FO4/cT0K16Nw7T/NzMzMzMzsPylcj8L1KOw/hetRuB6F6z/hehSuR+HqPz0K16NwPeo/mpmZmZmZ6T/2KFyPwvXoP1K4HoXrUeg/rkfhehSu5z8K16NwPQrnP2ZmZmZmZuY/w/UoXI/C5T8fhetRuB7lP3sUrkfheuQ/16NwPQrX4z8zMzMzMzPjP4/C9Shcj+I/7FG4HoXr4T9I4XoUrkfhP6RwPQrXo+A/AAAAAAAA4D+4HoXrUbjeP3E9CtejcN0/KVyPwvUo3D/hehSuR+HaP5qZmZmZmdk/UrgehetR2D8K16NwPQrXP8P1KFyPwtU/exSuR+F61D8zMzMzMzPTP+xRuB6F69E/pHA9Ctej0D+4HoXrUbjOPylcj8L1KMw/mpmZmZmZyT8K16NwPQrHP3sUrkfhesQ/7FG4HoXrwT+4HoXrUbi+P5qZmZmZmbk/exSuR+F6tD+4HoXrUbiuP3sUrkfheqQ/exSuR+F6lD8AAAAAAAAAAA==\"},\"shape\":[50],\"dtype\":\"float64\",\"order\":\"little\"}]]}}},\"view\":{\"type\":\"object\",\"name\":\"CDSView\",\"id\":\"p1714\",\"attributes\":{\"filter\":{\"type\":\"object\",\"name\":\"AllIndices\",\"id\":\"p1715\"}}},\"glyph\":{\"type\":\"object\",\"name\":\"Circle\",\"id\":\"p1710\",\"attributes\":{\"x\":{\"type\":\"field\",\"field\":\"x\"},\"y\":{\"type\":\"field\",\"field\":\"y\"},\"size\":{\"type\":\"value\",\"value\":7},\"line_color\":{\"type\":\"value\",\"value\":\"#1f77b4\"},\"fill_color\":{\"type\":\"value\",\"value\":\"green\"}}},\"nonselection_glyph\":{\"type\":\"object\",\"name\":\"Circle\",\"id\":\"p1711\",\"attributes\":{\"x\":{\"type\":\"field\",\"field\":\"x\"},\"y\":{\"type\":\"field\",\"field\":\"y\"},\"size\":{\"type\":\"value\",\"value\":7},\"line_color\":{\"type\":\"value\",\"value\":\"#1f77b4\"},\"line_alpha\":{\"type\":\"value\",\"value\":0.1},\"fill_color\":{\"type\":\"value\",\"value\":\"green\"},\"fill_alpha\":{\"type\":\"value\",\"value\":0.1},\"hatch_alpha\":{\"type\":\"value\",\"value\":0.1}}},\"muted_glyph\":{\"type\":\"object\",\"name\":\"Circle\",\"id\":\"p1712\",\"attributes\":{\"x\":{\"type\":\"field\",\"field\":\"x\"},\"y\":{\"type\":\"field\",\"field\":\"y\"},\"size\":{\"type\":\"value\",\"value\":7},\"line_color\":{\"type\":\"value\",\"value\":\"#1f77b4\"},\"line_alpha\":{\"type\":\"value\",\"value\":0.2},\"fill_color\":{\"type\":\"value\",\"value\":\"green\"},\"fill_alpha\":{\"type\":\"value\",\"value\":0.2},\"hatch_alpha\":{\"type\":\"value\",\"value\":0.2}}}}},{\"type\":\"object\",\"name\":\"GlyphRenderer\",\"id\":\"p1724\",\"attributes\":{\"data_source\":{\"type\":\"object\",\"name\":\"ColumnDataSource\",\"id\":\"p1718\",\"attributes\":{\"selected\":{\"type\":\"object\",\"name\":\"Selection\",\"id\":\"p1719\",\"attributes\":{\"indices\":[],\"line_indices\":[]}},\"selection_policy\":{\"type\":\"object\",\"name\":\"UnionRenderers\",\"id\":\"p1720\"},\"data\":{\"type\":\"map\",\"entries\":[[\"x\",[1178.34]]]}}},\"view\":{\"type\":\"object\",\"name\":\"CDSView\",\"id\":\"p1725\",\"attributes\":{\"filter\":{\"type\":\"object\",\"name\":\"AllIndices\",\"id\":\"p1726\"}}},\"glyph\":{\"type\":\"object\",\"name\":\"VSpan\",\"id\":\"p1721\",\"attributes\":{\"x\":{\"type\":\"field\",\"field\":\"x\"},\"line_color\":{\"type\":\"value\",\"value\":\"red\"},\"line_dash\":{\"type\":\"value\",\"value\":\"dashed\"}}},\"nonselection_glyph\":{\"type\":\"object\",\"name\":\"VSpan\",\"id\":\"p1722\",\"attributes\":{\"x\":{\"type\":\"field\",\"field\":\"x\"},\"line_color\":{\"type\":\"value\",\"value\":\"red\"},\"line_alpha\":{\"type\":\"value\",\"value\":0.1},\"line_dash\":{\"type\":\"value\",\"value\":\"dashed\"}}},\"muted_glyph\":{\"type\":\"object\",\"name\":\"VSpan\",\"id\":\"p1723\",\"attributes\":{\"x\":{\"type\":\"field\",\"field\":\"x\"},\"line_color\":{\"type\":\"value\",\"value\":\"red\"},\"line_alpha\":{\"type\":\"value\",\"value\":0.2},\"line_dash\":{\"type\":\"value\",\"value\":\"dashed\"}}}}},{\"type\":\"object\",\"name\":\"GlyphRenderer\",\"id\":\"p1733\",\"attributes\":{\"data_source\":{\"type\":\"object\",\"name\":\"ColumnDataSource\",\"id\":\"p1727\",\"attributes\":{\"selected\":{\"type\":\"object\",\"name\":\"Selection\",\"id\":\"p1728\",\"attributes\":{\"indices\":[],\"line_indices\":[]}},\"selection_policy\":{\"type\":\"object\",\"name\":\"UnionRenderers\",\"id\":\"p1729\"},\"data\":{\"type\":\"map\",\"entries\":[[\"x\",{\"type\":\"ndarray\",\"array\":{\"type\":\"bytes\",\"data\":\"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\"},\"shape\":[1000],\"dtype\":\"float64\",\"order\":\"little\"}],[\"y\",{\"type\":\"ndarray\",\"array\":{\"type\":\"bytes\",\"data\":\"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\"},\"shape\":[1000],\"dtype\":\"float64\",\"order\":\"little\"}]]}}},\"view\":{\"type\":\"object\",\"name\":\"CDSView\",\"id\":\"p1734\",\"attributes\":{\"filter\":{\"type\":\"object\",\"name\":\"AllIndices\",\"id\":\"p1735\"}}},\"glyph\":{\"type\":\"object\",\"name\":\"Line\",\"id\":\"p1730\",\"attributes\":{\"x\":{\"type\":\"field\",\"field\":\"x\"},\"y\":{\"type\":\"field\",\"field\":\"y\"},\"line_color\":\"red\"}},\"nonselection_glyph\":{\"type\":\"object\",\"name\":\"Line\",\"id\":\"p1731\",\"attributes\":{\"x\":{\"type\":\"field\",\"field\":\"x\"},\"y\":{\"type\":\"field\",\"field\":\"y\"},\"line_color\":\"red\",\"line_alpha\":0.1}},\"muted_glyph\":{\"type\":\"object\",\"name\":\"Line\",\"id\":\"p1732\",\"attributes\":{\"x\":{\"type\":\"field\",\"field\":\"x\"},\"y\":{\"type\":\"field\",\"field\":\"y\"},\"line_color\":\"red\",\"line_alpha\":0.2}}}},{\"type\":\"object\",\"name\":\"GlyphRenderer\",\"id\":\"p1743\",\"attributes\":{\"data_source\":{\"type\":\"object\",\"name\":\"ColumnDataSource\",\"id\":\"p1737\",\"attributes\":{\"selected\":{\"type\":\"object\",\"name\":\"Selection\",\"id\":\"p1738\",\"attributes\":{\"indices\":[],\"line_indices\":[]}},\"selection_policy\":{\"type\":\"object\",\"name\":\"UnionRenderers\",\"id\":\"p1739\"},\"data\":{\"type\":\"map\",\"entries\":[[\"x\",{\"type\":\"ndarray\",\"array\":{\"type\":\"bytes\",\"data\":\"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\"},\"shape\":[1000],\"dtype\":\"float64\",\"order\":\"little\"}],[\"y\",{\"type\":\"ndarray\",\"array\":{\"type\":\"bytes\",\"data\":\"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\"},\"shape\":[1000],\"dtype\":\"float64\",\"order\":\"little\"}]]}}},\"view\":{\"type\":\"object\",\"name\":\"CDSView\",\"id\":\"p1744\",\"attributes\":{\"filter\":{\"type\":\"object\",\"name\":\"AllIndices\",\"id\":\"p1745\"}}},\"glyph\":{\"type\":\"object\",\"name\":\"Line\",\"id\":\"p1740\",\"attributes\":{\"x\":{\"type\":\"field\",\"field\":\"x\"},\"y\":{\"type\":\"field\",\"field\":\"y\"},\"line_color\":\"green\"}},\"nonselection_glyph\":{\"type\":\"object\",\"name\":\"Line\",\"id\":\"p1741\",\"attributes\":{\"x\":{\"type\":\"field\",\"field\":\"x\"},\"y\":{\"type\":\"field\",\"field\":\"y\"},\"line_color\":\"green\",\"line_alpha\":0.1}},\"muted_glyph\":{\"type\":\"object\",\"name\":\"Line\",\"id\":\"p1742\",\"attributes\":{\"x\":{\"type\":\"field\",\"field\":\"x\"},\"y\":{\"type\":\"field\",\"field\":\"y\"},\"line_color\":\"green\",\"line_alpha\":0.2}}}}],\"toolbar\":{\"type\":\"object\",\"name\":\"Toolbar\",\"id\":\"p1686\",\"attributes\":{\"tools\":[{\"type\":\"object\",\"name\":\"PanTool\",\"id\":\"p1700\"},{\"type\":\"object\",\"name\":\"WheelZoomTool\",\"id\":\"p1701\",\"attributes\":{\"renderers\":\"auto\"}},{\"type\":\"object\",\"name\":\"BoxZoomTool\",\"id\":\"p1702\",\"attributes\":{\"overlay\":{\"type\":\"object\",\"name\":\"BoxAnnotation\",\"id\":\"p1703\",\"attributes\":{\"syncable\":false,\"level\":\"overlay\",\"visible\":false,\"left_units\":\"canvas\",\"right_units\":\"canvas\",\"top_units\":\"canvas\",\"bottom_units\":\"canvas\",\"line_color\":\"black\",\"line_alpha\":1.0,\"line_width\":2,\"line_dash\":[4,4],\"fill_color\":\"lightgrey\",\"fill_alpha\":0.5}}}},{\"type\":\"object\",\"name\":\"SaveTool\",\"id\":\"p1704\"},{\"type\":\"object\",\"name\":\"ResetTool\",\"id\":\"p1705\"},{\"type\":\"object\",\"name\":\"HelpTool\",\"id\":\"p1706\"}]}},\"left\":[{\"type\":\"object\",\"name\":\"LinearAxis\",\"id\":\"p1695\",\"attributes\":{\"ticker\":{\"type\":\"object\",\"name\":\"BasicTicker\",\"id\":\"p1696\",\"attributes\":{\"mantissas\":[1,2,5]}},\"formatter\":{\"type\":\"object\",\"name\":\"BasicTickFormatter\",\"id\":\"p1697\"},\"axis_label\":\"Population Fraction Survived\",\"major_label_policy\":{\"type\":\"object\",\"name\":\"AllLabels\",\"id\":\"p1698\"}}}],\"below\":[{\"type\":\"object\",\"name\":\"LinearAxis\",\"id\":\"p1690\",\"attributes\":{\"ticker\":{\"type\":\"object\",\"name\":\"BasicTicker\",\"id\":\"p1691\",\"attributes\":{\"mantissas\":[1,2,5]}},\"formatter\":{\"type\":\"object\",\"name\":\"BasicTickFormatter\",\"id\":\"p1692\"},\"axis_label\":\"Run Time [days]\",\"major_label_policy\":{\"type\":\"object\",\"name\":\"AllLabels\",\"id\":\"p1693\"}}}],\"center\":[{\"type\":\"object\",\"name\":\"Grid\",\"id\":\"p1694\",\"attributes\":{\"axis\":{\"id\":\"p1690\"}}},{\"type\":\"object\",\"name\":\"Grid\",\"id\":\"p1699\",\"attributes\":{\"dimension\":1,\"axis\":{\"id\":\"p1695\"}}},{\"type\":\"object\",\"name\":\"Legend\",\"id\":\"p1716\",\"attributes\":{\"items\":[{\"type\":\"object\",\"name\":\"LegendItem\",\"id\":\"p1717\",\"attributes\":{\"label\":{\"type\":\"value\",\"value\":\"ESP Survivial Data\"},\"renderers\":[{\"id\":\"p1713\"}]}},{\"type\":\"object\",\"name\":\"LegendItem\",\"id\":\"p1736\",\"attributes\":{\"label\":{\"type\":\"value\",\"value\":\"Weibull Survivor Curve CDF\"},\"renderers\":[{\"id\":\"p1733\"}]}},{\"type\":\"object\",\"name\":\"LegendItem\",\"id\":\"p1746\",\"attributes\":{\"label\":{\"type\":\"value\",\"value\":\"Weibull Failure Curve CDF\"},\"renderers\":[{\"id\":\"p1743\"}]}}]}}]}}]}};\n  const render_items = [{\"docid\":\"f540fa3c-acda-40fa-99da-999503472158\",\"roots\":{\"p1677\":\"a93be076-1e27-4d1d-977e-941a5031938b\"},\"root_ids\":[\"p1677\"]}];\n  root.Bokeh.embed.embed_items_notebook(docs_json, render_items);\n  }\n  if (root.Bokeh !== undefined) {\n    embed_document(root);\n  } else {\n    let attempts = 0;\n    const timer = setInterval(function(root) {\n      if (root.Bokeh !== undefined) {\n        clearInterval(timer);\n        embed_document(root);\n      } else {\n        attempts++;\n        if (attempts > 100) {\n          clearInterval(timer);\n          console.log(\"Bokeh: ERROR: Unable to run BokehJS code because BokehJS library is missing\");\n        }\n      }\n    }, 10, root)\n  }\n})(window);",
      "application/vnd.bokehjs_exec.v0+json": ""
     },
     "metadata": {
      "application/vnd.bokehjs_exec.v0+json": {
       "id": "p1677"
      }
     },
     "output_type": "display_data"
    }
   ],
   "source": [
    "cdf_survivial_fit_plot = CDFPlot(title=\"ESP Survival plot\", y_range=(0, 1))\n",
    "cdf_survivial_fit_plot.plot.xaxis.axis_label = \"Run Time [days]\"\n",
    "cdf_survivial_fit_plot.plot.yaxis.axis_label = \"Population Fraction Survived\"\n",
    "\n",
    "\n",
    "cdf_survivial_fit_plot.add_scatter(\n",
    "    x=failure_data[\"days\"],\n",
    "    y=failure_data[\"survivors\"],\n",
    "    color=\"green\",\n",
    "    size=7,\n",
    "    legend=\"ESP Survivial Data\",\n",
    ")\n",
    "cdf_survivial_fit_plot.plot.vspan(\n",
    "    x=[mean_time_to_failure], line_color=\"red\", line_dash=\"dashed\"\n",
    ")\n",
    "\n",
    "cdf_survivial_fit_plot.add_line(\n",
    "    line_name=\"survivors\",\n",
    "    x=days_normalized * max(failure_data[\"days\"]),\n",
    "    y=reliability_fit_,\n",
    "    legend_label=\"Weibull Survivor Curve CDF\",\n",
    "    color=\"red\",\n",
    ")\n",
    "cdf_survivial_fit_plot.add_line(\n",
    "    line_name=\"failures\",\n",
    "    x=days_normalized * max(failure_data[\"days\"]),\n",
    "    y=failure_fit_,\n",
    "    legend_label=\"Weibull Failure Curve CDF\",\n",
    "    color=\"green\",\n",
    ")\n",
    "\n",
    "show(cdf_survivial_fit_plot.plot)  # type: ignore\n"
   ]
  },
  {
   "cell_type": "markdown",
   "metadata": {},
   "source": [
    "### Weibull Conditional Survivor"
   ]
  },
  {
   "cell_type": "markdown",
   "metadata": {},
   "source": [
    "For an item with time to failure $T$ that is put into operation at time $t=0$ and is still functioning at time $t$, the probability that the iten of age t survives an additional interval of length x is \n",
    "\n",
    "$$R(x|t) = Pr(T > x+t | T>t) = \\frac{Pr(T > x + t)}{Pr(T >t)} = \\frac{R(x+t)}{R(t)}$$"
   ]
  },
  {
   "cell_type": "code",
   "execution_count": 70,
   "metadata": {},
   "outputs": [],
   "source": [
    "def probability_calculation(\n",
    "    t, delta_t, max_runtime, reliability_function, failure_function\n",
    "):\n",
    "    dt = t + delta_t\n",
    "\n",
    "    normalized_t = t / max_runtime\n",
    "    normalized_dt = dt / max_runtime\n",
    "\n",
    "    probability = (\n",
    "        failure_function(normalized_dt) - failure_function(normalized_t)\n",
    "    ) / reliability_function(normalized_t)\n",
    "    return probability\n"
   ]
  },
  {
   "cell_type": "code",
   "execution_count": 73,
   "metadata": {},
   "outputs": [],
   "source": [
    "failure_probability = probability_calculation(\n",
    "    mean_time_to_failure, 365, 2075, f_reliability, f_failure\n",
    ")\n"
   ]
  },
  {
   "cell_type": "code",
   "execution_count": 87,
   "metadata": {},
   "outputs": [],
   "source": [
    "runtimes = np.arange(10, 2075, 10)\n",
    "\n",
    "probabilities = []\n",
    "for runtime in runtimes:\n",
    "    if (runtime + 365) < 0.95 * 2075:\n",
    "        probability = (\n",
    "            probability_calculation(\n",
    "                float(runtime), float(365), float(2075), f_reliability, f_failure\n",
    "            )\n",
    "            * 100\n",
    "        )\n",
    "    else:\n",
    "        probability = 100\n",
    "    probabilities.append(probability)\n"
   ]
  },
  {
   "cell_type": "code",
   "execution_count": 88,
   "metadata": {},
   "outputs": [
    {
     "data": {
      "text/plain": [
       "[18.153324955291758,\n",
       " 18.572173798339588,\n",
       " 18.95647048561977,\n",
       " 19.31558579373939,\n",
       " 19.65466572525577,\n",
       " 19.976993531452194,\n",
       " 20.28495038210477,\n",
       " 20.58039556914376,\n",
       " 20.864723359684128,\n",
       " 21.13905963761013,\n",
       " 21.404333432636427,\n",
       " 21.661254113870115,\n",
       " 21.910565153393936,\n",
       " 22.152845841695978,\n",
       " 22.388596918791222,\n",
       " 22.6182591669744,\n",
       " 22.84219518595921,\n",
       " 23.060753253668526,\n",
       " 23.27428058095157,\n",
       " 23.483059563647785,\n",
       " 23.687346407233036,\n",
       " 23.887369631527214,\n",
       " 24.083308387700633,\n",
       " 24.27539590746553,\n",
       " 24.463817309978264,\n",
       " 24.648738901861435,\n",
       " 24.83031470032567,\n",
       " 25.008664484573533,\n",
       " 25.183926695260674,\n",
       " 25.356245329341142,\n",
       " 25.525736193767585,\n",
       " 25.69250773497683,\n",
       " 25.856654699631104,\n",
       " 26.018252767135163,\n",
       " 26.177417098624883,\n",
       " 26.33423569062508,\n",
       " 26.48878850196907,\n",
       " 26.641151119507462,\n",
       " 26.791372798283458,\n",
       " 26.939533024117633,\n",
       " 27.08570789573681,\n",
       " 27.22995844152726,\n",
       " 27.37234269413051,\n",
       " 27.512908331076773,\n",
       " 27.651693075659097,\n",
       " 27.788769929683355,\n",
       " 27.924187365776305,\n",
       " 28.057991105266854,\n",
       " 28.190224865956964,\n",
       " 28.320907796686118,\n",
       " 28.450097361913002,\n",
       " 28.577837998904194,\n",
       " 28.704166491484965,\n",
       " 28.829118142331957,\n",
       " 28.952719889482243,\n",
       " 29.074988945861335,\n",
       " 29.195982423308248,\n",
       " 29.315727629499673,\n",
       " 29.434253553320662,\n",
       " 29.551588118613502,\n",
       " 29.667734648306237,\n",
       " 29.782741618633196,\n",
       " 29.896635668397682,\n",
       " 30.0094409418609,\n",
       " 30.12118075612079,\n",
       " 30.231872225157687,\n",
       " 30.341517499090916,\n",
       " 30.450170003957457,\n",
       " 30.557843243328648,\n",
       " 30.664556919278514,\n",
       " 30.770330109019884,\n",
       " 30.875156591726288,\n",
       " 30.979081422709832,\n",
       " 31.082119918977718,\n",
       " 31.18428890046333,\n",
       " 31.285604684582875,\n",
       " 31.38608004915156,\n",
       " 31.4857035638215,\n",
       " 31.584531836622293,\n",
       " 31.682567903649662,\n",
       " 31.779825845729476,\n",
       " 31.87631935017482,\n",
       " 31.972035835341668,\n",
       " 32.06701960359177,\n",
       " 32.161278101329785,\n",
       " 32.25482357517955,\n",
       " 32.3476679469381,\n",
       " 32.43982282533471,\n",
       " 32.5312631554776,\n",
       " 32.622053161538304,\n",
       " 32.71218701522225,\n",
       " 32.80167517222962,\n",
       " 32.89052782680822,\n",
       " 32.97873010602134,\n",
       " 33.06632007552127,\n",
       " 33.15330619058115,\n",
       " 33.23969539225256,\n",
       " 33.32549668723911,\n",
       " 33.4107188691678,\n",
       " 33.495333613375685,\n",
       " 33.57940489433586,\n",
       " 33.662922467021914,\n",
       " 33.745894332947906,\n",
       " 33.82832831245843,\n",
       " 33.91020905471005,\n",
       " 33.991566923933476,\n",
       " 34.072414860076044,\n",
       " 34.15275470149513,\n",
       " 34.232593437418316,\n",
       " 34.311937906540244,\n",
       " 34.39075724081266,\n",
       " 34.46911593124677,\n",
       " 34.54700021056608,\n",
       " 34.62441635355306,\n",
       " 34.7013705051166,\n",
       " 34.77784817142292,\n",
       " 34.85387049549467,\n",
       " 34.929457673521185,\n",
       " 35.00460639549095,\n",
       " 35.07932220558626,\n",
       " 35.15361053834724,\n",
       " 35.22743845399698,\n",
       " 35.30087142276448,\n",
       " 35.37389276150256,\n",
       " 35.44650749136811,\n",
       " 35.51872053777046,\n",
       " 35.59051930416705,\n",
       " 35.6619142164696,\n",
       " 35.73293503304274,\n",
       " 35.803573118738406,\n",
       " 35.873832952991926,\n",
       " 35.943718933321904,\n",
       " 36.013196369002074,\n",
       " 36.082331993223946,\n",
       " 36.15110663623816,\n",
       " 36.21952438500563,\n",
       " 36.28758925421635,\n",
       " 36.35529139227931,\n",
       " 36.42262906808608,\n",
       " 36.489643582629014,\n",
       " 36.556320729287314,\n",
       " 36.622664184104345,\n",
       " 36.68867756058745,\n",
       " 36.7543246441131,\n",
       " 36.81967360497365,\n",
       " 36.88470310204616,\n",
       " 36.94941651061456,\n",
       " 37.01381715030485,\n",
       " 37.07789862966756,\n",
       " 37.14164568793035,\n",
       " 37.20511291098285,\n",
       " 37.26828023846681,\n",
       " 37.33115072784353,\n",
       " 37.39372738794107,\n",
       " 37.45597264666797,\n",
       " 37.517956216345596,\n",
       " 37.57965482334577,\n",
       " 37.6410712904493,\n",
       " 37.70220839682349,\n",
       " 37.76306383121061,\n",
       " 100,\n",
       " 100,\n",
       " 100,\n",
       " 100,\n",
       " 100,\n",
       " 100,\n",
       " 100,\n",
       " 100,\n",
       " 100,\n",
       " 100,\n",
       " 100,\n",
       " 100,\n",
       " 100,\n",
       " 100,\n",
       " 100,\n",
       " 100,\n",
       " 100,\n",
       " 100,\n",
       " 100,\n",
       " 100,\n",
       " 100,\n",
       " 100,\n",
       " 100,\n",
       " 100,\n",
       " 100,\n",
       " 100,\n",
       " 100,\n",
       " 100,\n",
       " 100,\n",
       " 100,\n",
       " 100,\n",
       " 100,\n",
       " 100,\n",
       " 100,\n",
       " 100,\n",
       " 100,\n",
       " 100,\n",
       " 100,\n",
       " 100,\n",
       " 100,\n",
       " 100,\n",
       " 100,\n",
       " 100,\n",
       " 100,\n",
       " 100,\n",
       " 100,\n",
       " 100]"
      ]
     },
     "execution_count": 88,
     "metadata": {},
     "output_type": "execute_result"
    }
   ],
   "source": [
    "probabilities"
   ]
  },
  {
   "cell_type": "code",
   "execution_count": 91,
   "metadata": {},
   "outputs": [],
   "source": [
    "class ProbabilityPlot:\n",
    "    def __init__(self, width=800, height=400, title=\"Probability Plot\", **kwargs):\n",
    "        self.width = width\n",
    "        self.height = height\n",
    "\n",
    "        self.title = title\n",
    "        self.plot = figure(width=width, height=height, title=title, **kwargs)\n",
    "        self.lines: dict[str, dict] = {}\n",
    "\n",
    "    def add_line(\n",
    "        self,\n",
    "        line_name: str,\n",
    "        x: Iterable,\n",
    "        y: Iterable,\n",
    "        legend_label: str,\n",
    "        color: str,\n",
    "        **kwargs,\n",
    "    ):\n",
    "        self.plot.line(x, y, color=color, legend_label=legend_label, **kwargs)\n",
    "        return self.plot\n"
   ]
  },
  {
   "cell_type": "code",
   "execution_count": 107,
   "metadata": {},
   "outputs": [
    {
     "data": {
      "text/html": [
       "\n",
       "  <div id=\"e53b2b1d-23a0-4cd4-859d-a2f3fe58ef64\" data-root-id=\"p2378\" style=\"display: contents;\"></div>\n"
      ]
     },
     "metadata": {},
     "output_type": "display_data"
    },
    {
     "data": {
      "application/javascript": "(function(root) {\n  function embed_document(root) {\n  const docs_json = {\"52269232-67b4-4142-9509-59b0fe8cf479\":{\"version\":\"3.3.0\",\"title\":\"Bokeh Application\",\"roots\":[{\"type\":\"object\",\"name\":\"Figure\",\"id\":\"p2378\",\"attributes\":{\"width\":1000,\"height\":400,\"x_range\":{\"type\":\"object\",\"name\":\"DataRange1d\",\"id\":\"p2380\"},\"y_range\":{\"type\":\"object\",\"name\":\"Range1d\",\"id\":\"p2388\",\"attributes\":{\"end\":100}},\"x_scale\":{\"type\":\"object\",\"name\":\"LinearScale\",\"id\":\"p2389\"},\"y_scale\":{\"type\":\"object\",\"name\":\"LinearScale\",\"id\":\"p2390\"},\"title\":{\"type\":\"object\",\"name\":\"Title\",\"id\":\"p2381\",\"attributes\":{\"text\":\"ESP Failure proabability within next 365 days\"}},\"renderers\":[{\"type\":\"object\",\"name\":\"GlyphRenderer\",\"id\":\"p2414\",\"attributes\":{\"data_source\":{\"type\":\"object\",\"name\":\"ColumnDataSource\",\"id\":\"p2408\",\"attributes\":{\"selected\":{\"type\":\"object\",\"name\":\"Selection\",\"id\":\"p2409\",\"attributes\":{\"indices\":[],\"line_indices\":[]}},\"selection_policy\":{\"type\":\"object\",\"name\":\"UnionRenderers\",\"id\":\"p2410\"},\"data\":{\"type\":\"map\",\"entries\":[[\"x\",{\"type\":\"ndarray\",\"array\":{\"type\":\"bytes\",\"data\":\"CgAAABQAAAAeAAAAKAAAADIAAAA8AAAARgAAAFAAAABaAAAAZAAAAG4AAAB4AAAAggAAAIwAAACWAAAAoAAAAKoAAAC0AAAAvgAAAMgAAADSAAAA3AAAAOYAAADwAAAA+gAAAAQBAAAOAQAAGAEAACIBAAAsAQAANgEAAEABAABKAQAAVAEAAF4BAABoAQAAcgEAAHwBAACGAQAAkAEAAJoBAACkAQAArgEAALgBAADCAQAAzAEAANYBAADgAQAA6gEAAPQBAAD+AQAACAIAABICAAAcAgAAJgIAADACAAA6AgAARAIAAE4CAABYAgAAYgIAAGwCAAB2AgAAgAIAAIoCAACUAgAAngIAAKgCAACyAgAAvAIAAMYCAADQAgAA2gIAAOQCAADuAgAA+AIAAAIDAAAMAwAAFgMAACADAAAqAwAANAMAAD4DAABIAwAAUgMAAFwDAABmAwAAcAMAAHoDAACEAwAAjgMAAJgDAACiAwAArAMAALYDAADAAwAAygMAANQDAADeAwAA6AMAAPIDAAD8AwAABgQAABAEAAAaBAAAJAQAAC4EAAA4BAAAQgQAAEwEAABWBAAAYAQAAGoEAAB0BAAAfgQAAIgEAACSBAAAnAQAAKYEAACwBAAAugQAAMQEAADOBAAA2AQAAOIEAADsBAAA9gQAAAAFAAAKBQAAFAUAAB4FAAAoBQAAMgUAADwFAABGBQAAUAUAAFoFAABkBQAAbgUAAHgFAACCBQAAjAUAAJYFAACgBQAAqgUAALQFAAC+BQAAyAUAANIFAADcBQAA5gUAAPAFAAD6BQAABAYAAA4GAAAYBgAAIgYAACwGAAA2BgAAQAYAAEoGAABUBgAAXgYAAGgGAAByBgAAfAYAAIYGAACQBgAAmgYAAKQGAACuBgAAuAYAAMIGAADMBgAA1gYAAOAGAADqBgAA9AYAAP4GAAAIBwAAEgcAABwHAAAmBwAAMAcAADoHAABEBwAATgcAAFgHAABiBwAAbAcAAHYHAACABwAAigcAAJQHAACeBwAAqAcAALIHAAC8BwAAxgcAANAHAADaBwAA5AcAAO4HAAD4BwAAAggAAAwIAAAWCAAA\"},\"shape\":[207],\"dtype\":\"int32\",\"order\":\"little\"}],[\"y\",[18.153324955291758,18.572173798339588,18.95647048561977,19.31558579373939,19.65466572525577,19.976993531452194,20.28495038210477,20.58039556914376,20.864723359684128,21.13905963761013,21.404333432636427,21.661254113870115,21.910565153393936,22.152845841695978,22.388596918791222,22.6182591669744,22.84219518595921,23.060753253668526,23.27428058095157,23.483059563647785,23.687346407233036,23.887369631527214,24.083308387700633,24.27539590746553,24.463817309978264,24.648738901861435,24.83031470032567,25.008664484573533,25.183926695260674,25.356245329341142,25.525736193767585,25.69250773497683,25.856654699631104,26.018252767135163,26.177417098624883,26.33423569062508,26.48878850196907,26.641151119507462,26.791372798283458,26.939533024117633,27.08570789573681,27.22995844152726,27.37234269413051,27.512908331076773,27.651693075659097,27.788769929683355,27.924187365776305,28.057991105266854,28.190224865956964,28.320907796686118,28.450097361913002,28.577837998904194,28.704166491484965,28.829118142331957,28.952719889482243,29.074988945861335,29.195982423308248,29.315727629499673,29.434253553320662,29.551588118613502,29.667734648306237,29.782741618633196,29.896635668397682,30.0094409418609,30.12118075612079,30.231872225157687,30.341517499090916,30.450170003957457,30.557843243328648,30.664556919278514,30.770330109019884,30.875156591726288,30.979081422709832,31.082119918977718,31.18428890046333,31.285604684582875,31.38608004915156,31.4857035638215,31.584531836622293,31.682567903649662,31.779825845729476,31.87631935017482,31.972035835341668,32.06701960359177,32.161278101329785,32.25482357517955,32.3476679469381,32.43982282533471,32.5312631554776,32.622053161538304,32.71218701522225,32.80167517222962,32.89052782680822,32.97873010602134,33.06632007552127,33.15330619058115,33.23969539225256,33.32549668723911,33.4107188691678,33.495333613375685,33.57940489433586,33.662922467021914,33.745894332947906,33.82832831245843,33.91020905471005,33.991566923933476,34.072414860076044,34.15275470149513,34.232593437418316,34.311937906540244,34.39075724081266,34.46911593124677,34.54700021056608,34.62441635355306,34.7013705051166,34.77784817142292,34.85387049549467,34.929457673521185,35.00460639549095,35.07932220558626,35.15361053834724,35.22743845399698,35.30087142276448,35.37389276150256,35.44650749136811,35.51872053777046,35.59051930416705,35.6619142164696,35.73293503304274,35.803573118738406,35.873832952991926,35.943718933321904,36.013196369002074,36.082331993223946,36.15110663623816,36.21952438500563,36.28758925421635,36.35529139227931,36.42262906808608,36.489643582629014,36.556320729287314,36.622664184104345,36.68867756058745,36.7543246441131,36.81967360497365,36.88470310204616,36.94941651061456,37.01381715030485,37.07789862966756,37.14164568793035,37.20511291098285,37.26828023846681,37.33115072784353,37.39372738794107,37.45597264666797,37.517956216345596,37.57965482334577,37.6410712904493,37.70220839682349,37.76306383121061,100,100,100,100,100,100,100,100,100,100,100,100,100,100,100,100,100,100,100,100,100,100,100,100,100,100,100,100,100,100,100,100,100,100,100,100,100,100,100,100,100,100,100,100,100,100,100]]]}}},\"view\":{\"type\":\"object\",\"name\":\"CDSView\",\"id\":\"p2415\",\"attributes\":{\"filter\":{\"type\":\"object\",\"name\":\"AllIndices\",\"id\":\"p2416\"}}},\"glyph\":{\"type\":\"object\",\"name\":\"Line\",\"id\":\"p2411\",\"attributes\":{\"x\":{\"type\":\"field\",\"field\":\"x\"},\"y\":{\"type\":\"field\",\"field\":\"y\"},\"line_color\":\"green\"}},\"nonselection_glyph\":{\"type\":\"object\",\"name\":\"Line\",\"id\":\"p2412\",\"attributes\":{\"x\":{\"type\":\"field\",\"field\":\"x\"},\"y\":{\"type\":\"field\",\"field\":\"y\"},\"line_color\":\"green\",\"line_alpha\":0.1}},\"muted_glyph\":{\"type\":\"object\",\"name\":\"Line\",\"id\":\"p2413\",\"attributes\":{\"x\":{\"type\":\"field\",\"field\":\"x\"},\"y\":{\"type\":\"field\",\"field\":\"y\"},\"line_color\":\"green\",\"line_alpha\":0.2}}}},{\"type\":\"object\",\"name\":\"GlyphRenderer\",\"id\":\"p2425\",\"attributes\":{\"data_source\":{\"type\":\"object\",\"name\":\"ColumnDataSource\",\"id\":\"p2419\",\"attributes\":{\"selected\":{\"type\":\"object\",\"name\":\"Selection\",\"id\":\"p2420\",\"attributes\":{\"indices\":[],\"line_indices\":[]}},\"selection_policy\":{\"type\":\"object\",\"name\":\"UnionRenderers\",\"id\":\"p2421\"},\"data\":{\"type\":\"map\",\"entries\":[[\"x\",[10,20,30,40,50,60,70,80,90,100,110,120,130,140,150,160,170,180,190,200,210,220,230,240,250,260,270,280,290,300,310,320,330,340,350,360,370,380,390,400,410,420,430,440,450,460,470,480,490,500,510,520,530,540,550,560,570,580,590,600,610,620,630,640,650,660,670,680,690,700,710,720,730,740,750,760,770,780,790,800,810,820,830,840,850,860,870,880,890,900,910,920,930,940,950,960,970,980,990,1000,1010,1020,1030,1040,1050,1060,1070,1080,1090,1100,1110,1120,1130,1140,1150,1160,1170,1180,1190,1200,1210,1220,1230,1240,1250,1260,1270,1280,1290,1300,1310,1320,1330,1340,1350,1360,1370,1380,1390,1400,1410,1420,1430,1440,1450,1460,1470,1480,1490,1500,1510,1520,1530,1540,1550,1560,1570,1580,1590,1600,1610,1620,1630,1640,1650,1660,1670,1680,1690,1700,1710,1720,1730,1740,1750,1760,1770,1780,1790,1800,1810,1820,1830,1840,1850,1860,1870,1880,1890,1900,1910,1920,1930,1940,1950,1960,1970,1980,1990,2000,2010,2020,2030,2040,2050,2060,2070]],[\"y\",[18.153324955291758,18.572173798339588,18.95647048561977,19.31558579373939,19.65466572525577,19.976993531452194,20.28495038210477,20.58039556914376,20.864723359684128,21.13905963761013,21.404333432636427,21.661254113870115,21.910565153393936,22.152845841695978,22.388596918791222,22.6182591669744,22.84219518595921,23.060753253668526,23.27428058095157,23.483059563647785,23.687346407233036,23.887369631527214,24.083308387700633,24.27539590746553,24.463817309978264,24.648738901861435,24.83031470032567,25.008664484573533,25.183926695260674,25.356245329341142,25.525736193767585,25.69250773497683,25.856654699631104,26.018252767135163,26.177417098624883,26.33423569062508,26.48878850196907,26.641151119507462,26.791372798283458,26.939533024117633,27.08570789573681,27.22995844152726,27.37234269413051,27.512908331076773,27.651693075659097,27.788769929683355,27.924187365776305,28.057991105266854,28.190224865956964,28.320907796686118,28.450097361913002,28.577837998904194,28.704166491484965,28.829118142331957,28.952719889482243,29.074988945861335,29.195982423308248,29.315727629499673,29.434253553320662,29.551588118613502,29.667734648306237,29.782741618633196,29.896635668397682,30.0094409418609,30.12118075612079,30.231872225157687,30.341517499090916,30.450170003957457,30.557843243328648,30.664556919278514,30.770330109019884,30.875156591726288,30.979081422709832,31.082119918977718,31.18428890046333,31.285604684582875,31.38608004915156,31.4857035638215,31.584531836622293,31.682567903649662,31.779825845729476,31.87631935017482,31.972035835341668,32.06701960359177,32.161278101329785,32.25482357517955,32.3476679469381,32.43982282533471,32.5312631554776,32.622053161538304,32.71218701522225,32.80167517222962,32.89052782680822,32.97873010602134,33.06632007552127,33.15330619058115,33.23969539225256,33.32549668723911,33.4107188691678,33.495333613375685,33.57940489433586,33.662922467021914,33.745894332947906,33.82832831245843,33.91020905471005,33.991566923933476,34.072414860076044,34.15275470149513,34.232593437418316,34.311937906540244,34.39075724081266,34.46911593124677,34.54700021056608,34.62441635355306,34.7013705051166,34.77784817142292,34.85387049549467,34.929457673521185,35.00460639549095,35.07932220558626,35.15361053834724,35.22743845399698,35.30087142276448,35.37389276150256,35.44650749136811,35.51872053777046,35.59051930416705,35.6619142164696,35.73293503304274,35.803573118738406,35.873832952991926,35.943718933321904,36.013196369002074,36.082331993223946,36.15110663623816,36.21952438500563,36.28758925421635,36.35529139227931,36.42262906808608,36.489643582629014,36.556320729287314,36.622664184104345,36.68867756058745,36.7543246441131,36.81967360497365,36.88470310204616,36.94941651061456,37.01381715030485,37.07789862966756,37.14164568793035,37.20511291098285,37.26828023846681,37.33115072784353,37.39372738794107,37.45597264666797,37.517956216345596,37.57965482334577,37.6410712904493,37.70220839682349,37.76306383121061,100,100,100,100,100,100,100,100,100,100,100,100,100,100,100,100,100,100,100,100,100,100,100,100,100,100,100,100,100,100,100,100,100,100,100,100,100,100,100,100,100,100,100,100,100,100,100]]]}}},\"view\":{\"type\":\"object\",\"name\":\"CDSView\",\"id\":\"p2426\",\"attributes\":{\"filter\":{\"type\":\"object\",\"name\":\"AllIndices\",\"id\":\"p2427\"}}},\"glyph\":{\"type\":\"object\",\"name\":\"Line\",\"id\":\"p2422\",\"attributes\":{\"x\":{\"type\":\"field\",\"field\":\"x\"},\"y\":{\"type\":\"field\",\"field\":\"y\"},\"line_color\":\"#1f77b4\"}},\"nonselection_glyph\":{\"type\":\"object\",\"name\":\"Line\",\"id\":\"p2423\",\"attributes\":{\"x\":{\"type\":\"field\",\"field\":\"x\"},\"y\":{\"type\":\"field\",\"field\":\"y\"},\"line_color\":\"#1f77b4\",\"line_alpha\":0.1}},\"muted_glyph\":{\"type\":\"object\",\"name\":\"Line\",\"id\":\"p2424\",\"attributes\":{\"x\":{\"type\":\"field\",\"field\":\"x\"},\"y\":{\"type\":\"field\",\"field\":\"y\"},\"line_color\":\"#1f77b4\",\"line_alpha\":0.2}}}},{\"type\":\"object\",\"name\":\"GlyphRenderer\",\"id\":\"p2434\",\"attributes\":{\"data_source\":{\"type\":\"object\",\"name\":\"ColumnDataSource\",\"id\":\"p2428\",\"attributes\":{\"selected\":{\"type\":\"object\",\"name\":\"Selection\",\"id\":\"p2429\",\"attributes\":{\"indices\":[],\"line_indices\":[]}},\"selection_policy\":{\"type\":\"object\",\"name\":\"UnionRenderers\",\"id\":\"p2430\"},\"data\":{\"type\":\"map\",\"entries\":[[\"x\",[1178.34]]]}}},\"view\":{\"type\":\"object\",\"name\":\"CDSView\",\"id\":\"p2435\",\"attributes\":{\"filter\":{\"type\":\"object\",\"name\":\"AllIndices\",\"id\":\"p2436\"}}},\"glyph\":{\"type\":\"object\",\"name\":\"VSpan\",\"id\":\"p2431\",\"attributes\":{\"x\":{\"type\":\"field\",\"field\":\"x\"},\"line_color\":{\"type\":\"value\",\"value\":\"red\"},\"line_dash\":{\"type\":\"value\",\"value\":\"dashed\"}}},\"nonselection_glyph\":{\"type\":\"object\",\"name\":\"VSpan\",\"id\":\"p2432\",\"attributes\":{\"x\":{\"type\":\"field\",\"field\":\"x\"},\"line_color\":{\"type\":\"value\",\"value\":\"red\"},\"line_alpha\":{\"type\":\"value\",\"value\":0.1},\"line_dash\":{\"type\":\"value\",\"value\":\"dashed\"}}},\"muted_glyph\":{\"type\":\"object\",\"name\":\"VSpan\",\"id\":\"p2433\",\"attributes\":{\"x\":{\"type\":\"field\",\"field\":\"x\"},\"line_color\":{\"type\":\"value\",\"value\":\"red\"},\"line_alpha\":{\"type\":\"value\",\"value\":0.2},\"line_dash\":{\"type\":\"value\",\"value\":\"dashed\"}}}}}],\"toolbar\":{\"type\":\"object\",\"name\":\"Toolbar\",\"id\":\"p2387\",\"attributes\":{\"tools\":[{\"type\":\"object\",\"name\":\"PanTool\",\"id\":\"p2401\"},{\"type\":\"object\",\"name\":\"WheelZoomTool\",\"id\":\"p2402\",\"attributes\":{\"renderers\":\"auto\"}},{\"type\":\"object\",\"name\":\"BoxZoomTool\",\"id\":\"p2403\",\"attributes\":{\"overlay\":{\"type\":\"object\",\"name\":\"BoxAnnotation\",\"id\":\"p2404\",\"attributes\":{\"syncable\":false,\"level\":\"overlay\",\"visible\":false,\"left_units\":\"canvas\",\"right_units\":\"canvas\",\"top_units\":\"canvas\",\"bottom_units\":\"canvas\",\"line_color\":\"black\",\"line_alpha\":1.0,\"line_width\":2,\"line_dash\":[4,4],\"fill_color\":\"lightgrey\",\"fill_alpha\":0.5}}}},{\"type\":\"object\",\"name\":\"SaveTool\",\"id\":\"p2405\"},{\"type\":\"object\",\"name\":\"ResetTool\",\"id\":\"p2406\"},{\"type\":\"object\",\"name\":\"HelpTool\",\"id\":\"p2407\"}]}},\"left\":[{\"type\":\"object\",\"name\":\"LinearAxis\",\"id\":\"p2396\",\"attributes\":{\"ticker\":{\"type\":\"object\",\"name\":\"BasicTicker\",\"id\":\"p2397\",\"attributes\":{\"mantissas\":[1,2,5]}},\"formatter\":{\"type\":\"object\",\"name\":\"BasicTickFormatter\",\"id\":\"p2398\"},\"axis_label\":\"Probability of Failure\",\"major_label_policy\":{\"type\":\"object\",\"name\":\"AllLabels\",\"id\":\"p2399\"}}}],\"below\":[{\"type\":\"object\",\"name\":\"LinearAxis\",\"id\":\"p2391\",\"attributes\":{\"ticker\":{\"type\":\"object\",\"name\":\"BasicTicker\",\"id\":\"p2392\",\"attributes\":{\"mantissas\":[1,2,5]}},\"formatter\":{\"type\":\"object\",\"name\":\"BasicTickFormatter\",\"id\":\"p2393\"},\"axis_label\":\"Run Time [days]\",\"major_label_policy\":{\"type\":\"object\",\"name\":\"AllLabels\",\"id\":\"p2394\"}}}],\"center\":[{\"type\":\"object\",\"name\":\"Grid\",\"id\":\"p2395\",\"attributes\":{\"axis\":{\"id\":\"p2391\"}}},{\"type\":\"object\",\"name\":\"Grid\",\"id\":\"p2400\",\"attributes\":{\"dimension\":1,\"axis\":{\"id\":\"p2396\"}}},{\"type\":\"object\",\"name\":\"Legend\",\"id\":\"p2417\",\"attributes\":{\"items\":[{\"type\":\"object\",\"name\":\"LegendItem\",\"id\":\"p2418\",\"attributes\":{\"label\":{\"type\":\"value\",\"value\":\"Probability of failure within next 365 days\"},\"renderers\":[{\"id\":\"p2414\"}]}},{\"type\":\"object\",\"name\":\"LegendItem\",\"id\":\"p2437\",\"attributes\":{\"label\":{\"type\":\"value\",\"value\":\"MTTF\"},\"renderers\":[{\"id\":\"p2434\"}]}}]}}]}}]}};\n  const render_items = [{\"docid\":\"52269232-67b4-4142-9509-59b0fe8cf479\",\"roots\":{\"p2378\":\"e53b2b1d-23a0-4cd4-859d-a2f3fe58ef64\"},\"root_ids\":[\"p2378\"]}];\n  root.Bokeh.embed.embed_items_notebook(docs_json, render_items);\n  }\n  if (root.Bokeh !== undefined) {\n    embed_document(root);\n  } else {\n    let attempts = 0;\n    const timer = setInterval(function(root) {\n      if (root.Bokeh !== undefined) {\n        clearInterval(timer);\n        embed_document(root);\n      } else {\n        attempts++;\n        if (attempts > 100) {\n          clearInterval(timer);\n          console.log(\"Bokeh: ERROR: Unable to run BokehJS code because BokehJS library is missing\");\n        }\n      }\n    }, 10, root)\n  }\n})(window);",
      "application/vnd.bokehjs_exec.v0+json": ""
     },
     "metadata": {
      "application/vnd.bokehjs_exec.v0+json": {
       "id": "p2378"
      }
     },
     "output_type": "display_data"
    }
   ],
   "source": [
    "probability_plot = ProbabilityPlot(\n",
    "    title=\"ESP Failure proabability within next 365 days\",\n",
    "    y_range=(0, 100),\n",
    "    height=400,\n",
    "    width=1000,\n",
    ")\n",
    "probability_plot.plot.xaxis.axis_label = \"Run Time [days]\"\n",
    "probability_plot.plot.yaxis.axis_label = \"Probability of Failure\"\n",
    "\n",
    "\n",
    "probability_plot.add_line(\n",
    "    line_name=\"probability\",\n",
    "    x=runtimes,\n",
    "    y=probabilities,\n",
    "    color=\"green\",\n",
    "    legend_label=\"Probability of failure within next 365 days\",\n",
    ")\n",
    "\n",
    "probability_plot.plot.line(x=list(runtimes), y=probabilities)\n",
    "probability_plot.plot.vspan(\n",
    "    x=[mean_time_to_failure], line_color=\"red\", line_dash=\"dashed\", legend_label=\"MTTF\"\n",
    ")\n",
    "show(probability_plot.plot)  # type: ignore\n"
   ]
  },
  {
   "cell_type": "markdown",
   "metadata": {},
   "source": [
    "The above plot shows the probability of ESP failure within the next 365 days for a given runtime. Replacing an ESP with a new one lowers the probability of failure to ~19%. With increase in runtime, the failure probability gradually goes up. At MTTF the probability of failure is only 36% or there's a 64% chance the ESP will survive for anonther year.\n",
    "\n",
    "The graph also shows the point at which the ESP will fail within the next 365 days. For the data shown above that's after 1610 days. This also implies that the ESP can potentially run for another 432 days with limited increase in risk. Beyond runtime of 1610 days the risk increases exponentially that pre-emptive change out is justified.\n",
    "\n",
    "Hence, it's recommended use probabilities of failure rather than MTTF to decide when to replace an ESP."
   ]
  },
  {
   "cell_type": "code",
   "execution_count": null,
   "metadata": {},
   "outputs": [],
   "source": []
  }
 ],
 "metadata": {
  "kernelspec": {
   "display_name": "base",
   "language": "python",
   "name": "python3"
  },
  "language_info": {
   "codemirror_mode": {
    "name": "ipython",
    "version": 3
   },
   "file_extension": ".py",
   "mimetype": "text/x-python",
   "name": "python",
   "nbconvert_exporter": "python",
   "pygments_lexer": "ipython3",
   "version": "3.9.18"
  }
 },
 "nbformat": 4,
 "nbformat_minor": 2
}
